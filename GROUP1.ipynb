{
 "cells": [
  {
   "cell_type": "code",
   "execution_count": 3,
   "id": "initial_id",
   "metadata": {
    "ExecuteTime": {
     "end_time": "2024-02-16T11:57:08.692602Z",
     "start_time": "2024-02-16T11:57:06.624884Z"
    },
    "collapsed": true
   },
   "outputs": [],
   "source": [
    "import pandas as pd\n",
    "import matplotlib.pyplot as plt\n",
    "import numpy as np\n",
    "import scipy.stats as stats"
   ]
  },
  {
   "cell_type": "markdown",
   "id": "1a8629a5e0a51249",
   "metadata": {},
   "source": [
    "# Exploratory Data Analysis"
   ]
  },
  {
   "cell_type": "markdown",
   "id": "ba5ace108f8aa69",
   "metadata": {},
   "source": [
    "First we try to understand what kind of data we have, including how many rows and features. For features descriptions we used the official data dictionary from https://archive.ics.uci.edu/dataset/296/diabetes+130-us+hospitals+for+years+1999-2008"
   ]
  },
  {
   "cell_type": "code",
   "execution_count": 4,
   "id": "e8f06d604dcb1ac3",
   "metadata": {
    "ExecuteTime": {
     "end_time": "2024-02-16T11:57:09.020830Z",
     "start_time": "2024-02-16T11:57:06.789105Z"
    }
   },
   "outputs": [
    {
     "data": {
      "text/plain": [
       "(101766, 50)"
      ]
     },
     "execution_count": 4,
     "metadata": {},
     "output_type": "execute_result"
    }
   ],
   "source": [
    "df = pd.read_csv('diabetic_readmission_data.csv')\n",
    "df.shape"
   ]
  },
  {
   "cell_type": "markdown",
   "id": "89fc2e9e632a4b5c",
   "metadata": {},
   "source": []
  },
  {
   "cell_type": "code",
   "execution_count": 5,
   "id": "5a52e4723b9bbfaf",
   "metadata": {
    "ExecuteTime": {
     "end_time": "2024-02-16T11:57:09.023178Z",
     "start_time": "2024-02-16T11:57:07.257052Z"
    }
   },
   "outputs": [
    {
     "data": {
      "text/plain": [
       "encounter_id                 int64\n",
       "patient_nbr                  int64\n",
       "race                        object\n",
       "gender                      object\n",
       "age                         object\n",
       "weight                      object\n",
       "admission_type_id            int64\n",
       "discharge_disposition_id     int64\n",
       "admission_source_id          int64\n",
       "time_in_hospital             int64\n",
       "payer_code                  object\n",
       "medical_specialty           object\n",
       "num_lab_procedures           int64\n",
       "num_procedures               int64\n",
       "num_medications              int64\n",
       "number_outpatient            int64\n",
       "number_emergency             int64\n",
       "number_inpatient             int64\n",
       "diag_1                      object\n",
       "diag_2                      object\n",
       "diag_3                      object\n",
       "number_diagnoses             int64\n",
       "max_glu_serum               object\n",
       "A1Cresult                   object\n",
       "metformin                   object\n",
       "repaglinide                 object\n",
       "nateglinide                 object\n",
       "chlorpropamide              object\n",
       "glimepiride                 object\n",
       "acetohexamide               object\n",
       "glipizide                   object\n",
       "glyburide                   object\n",
       "tolbutamide                 object\n",
       "pioglitazone                object\n",
       "rosiglitazone               object\n",
       "acarbose                    object\n",
       "miglitol                    object\n",
       "troglitazone                object\n",
       "tolazamide                  object\n",
       "examide                     object\n",
       "citoglipton                 object\n",
       "insulin                     object\n",
       "glyburide-metformin         object\n",
       "glipizide-metformin         object\n",
       "glimepiride-pioglitazone    object\n",
       "metformin-rosiglitazone     object\n",
       "metformin-pioglitazone      object\n",
       "change                      object\n",
       "diabetesMed                 object\n",
       "readmitted                  object\n",
       "dtype: object"
      ]
     },
     "execution_count": 5,
     "metadata": {},
     "output_type": "execute_result"
    }
   ],
   "source": [
    "df.dtypes"
   ]
  },
  {
   "cell_type": "markdown",
   "id": "f47d7f18c3f1b0d4",
   "metadata": {},
   "source": [
    "## Descriptive Statistics"
   ]
  },
  {
   "cell_type": "markdown",
   "id": "66a734f1d6cc655c",
   "metadata": {},
   "source": [
    "Descriptive statistics of the dataset give us sense of how data behaviour is"
   ]
  },
  {
   "cell_type": "code",
   "execution_count": 6,
   "id": "dec8391f716ac3d0",
   "metadata": {
    "ExecuteTime": {
     "end_time": "2024-02-16T11:57:10.338311Z",
     "start_time": "2024-02-16T11:57:07.259881Z"
    }
   },
   "outputs": [
    {
     "data": {
      "text/html": [
       "<div>\n",
       "<style scoped>\n",
       "    .dataframe tbody tr th:only-of-type {\n",
       "        vertical-align: middle;\n",
       "    }\n",
       "\n",
       "    .dataframe tbody tr th {\n",
       "        vertical-align: top;\n",
       "    }\n",
       "\n",
       "    .dataframe thead th {\n",
       "        text-align: right;\n",
       "    }\n",
       "</style>\n",
       "<table border=\"1\" class=\"dataframe\">\n",
       "  <thead>\n",
       "    <tr style=\"text-align: right;\">\n",
       "      <th></th>\n",
       "      <th>encounter_id</th>\n",
       "      <th>patient_nbr</th>\n",
       "      <th>race</th>\n",
       "      <th>gender</th>\n",
       "      <th>age</th>\n",
       "      <th>weight</th>\n",
       "      <th>admission_type_id</th>\n",
       "      <th>discharge_disposition_id</th>\n",
       "      <th>admission_source_id</th>\n",
       "      <th>time_in_hospital</th>\n",
       "      <th>...</th>\n",
       "      <th>citoglipton</th>\n",
       "      <th>insulin</th>\n",
       "      <th>glyburide-metformin</th>\n",
       "      <th>glipizide-metformin</th>\n",
       "      <th>glimepiride-pioglitazone</th>\n",
       "      <th>metformin-rosiglitazone</th>\n",
       "      <th>metformin-pioglitazone</th>\n",
       "      <th>change</th>\n",
       "      <th>diabetesMed</th>\n",
       "      <th>readmitted</th>\n",
       "    </tr>\n",
       "  </thead>\n",
       "  <tbody>\n",
       "    <tr>\n",
       "      <th>count</th>\n",
       "      <td>1.017660e+05</td>\n",
       "      <td>1.017660e+05</td>\n",
       "      <td>101766</td>\n",
       "      <td>101766</td>\n",
       "      <td>101766</td>\n",
       "      <td>101766</td>\n",
       "      <td>101766.000000</td>\n",
       "      <td>101766.000000</td>\n",
       "      <td>101766.000000</td>\n",
       "      <td>101766.000000</td>\n",
       "      <td>...</td>\n",
       "      <td>101766</td>\n",
       "      <td>101766</td>\n",
       "      <td>101766</td>\n",
       "      <td>101766</td>\n",
       "      <td>101766</td>\n",
       "      <td>101766</td>\n",
       "      <td>101766</td>\n",
       "      <td>101766</td>\n",
       "      <td>101766</td>\n",
       "      <td>101766</td>\n",
       "    </tr>\n",
       "    <tr>\n",
       "      <th>unique</th>\n",
       "      <td>NaN</td>\n",
       "      <td>NaN</td>\n",
       "      <td>6</td>\n",
       "      <td>3</td>\n",
       "      <td>10</td>\n",
       "      <td>10</td>\n",
       "      <td>NaN</td>\n",
       "      <td>NaN</td>\n",
       "      <td>NaN</td>\n",
       "      <td>NaN</td>\n",
       "      <td>...</td>\n",
       "      <td>1</td>\n",
       "      <td>4</td>\n",
       "      <td>4</td>\n",
       "      <td>2</td>\n",
       "      <td>2</td>\n",
       "      <td>2</td>\n",
       "      <td>2</td>\n",
       "      <td>2</td>\n",
       "      <td>2</td>\n",
       "      <td>3</td>\n",
       "    </tr>\n",
       "    <tr>\n",
       "      <th>top</th>\n",
       "      <td>NaN</td>\n",
       "      <td>NaN</td>\n",
       "      <td>Caucasian</td>\n",
       "      <td>Female</td>\n",
       "      <td>[70-80)</td>\n",
       "      <td>?</td>\n",
       "      <td>NaN</td>\n",
       "      <td>NaN</td>\n",
       "      <td>NaN</td>\n",
       "      <td>NaN</td>\n",
       "      <td>...</td>\n",
       "      <td>No</td>\n",
       "      <td>No</td>\n",
       "      <td>No</td>\n",
       "      <td>No</td>\n",
       "      <td>No</td>\n",
       "      <td>No</td>\n",
       "      <td>No</td>\n",
       "      <td>No</td>\n",
       "      <td>Yes</td>\n",
       "      <td>NO</td>\n",
       "    </tr>\n",
       "    <tr>\n",
       "      <th>freq</th>\n",
       "      <td>NaN</td>\n",
       "      <td>NaN</td>\n",
       "      <td>76099</td>\n",
       "      <td>54708</td>\n",
       "      <td>26068</td>\n",
       "      <td>98569</td>\n",
       "      <td>NaN</td>\n",
       "      <td>NaN</td>\n",
       "      <td>NaN</td>\n",
       "      <td>NaN</td>\n",
       "      <td>...</td>\n",
       "      <td>101766</td>\n",
       "      <td>47383</td>\n",
       "      <td>101060</td>\n",
       "      <td>101753</td>\n",
       "      <td>101765</td>\n",
       "      <td>101764</td>\n",
       "      <td>101765</td>\n",
       "      <td>54755</td>\n",
       "      <td>78363</td>\n",
       "      <td>54864</td>\n",
       "    </tr>\n",
       "    <tr>\n",
       "      <th>mean</th>\n",
       "      <td>1.652016e+08</td>\n",
       "      <td>5.433040e+07</td>\n",
       "      <td>NaN</td>\n",
       "      <td>NaN</td>\n",
       "      <td>NaN</td>\n",
       "      <td>NaN</td>\n",
       "      <td>2.024006</td>\n",
       "      <td>3.715642</td>\n",
       "      <td>5.754437</td>\n",
       "      <td>4.395987</td>\n",
       "      <td>...</td>\n",
       "      <td>NaN</td>\n",
       "      <td>NaN</td>\n",
       "      <td>NaN</td>\n",
       "      <td>NaN</td>\n",
       "      <td>NaN</td>\n",
       "      <td>NaN</td>\n",
       "      <td>NaN</td>\n",
       "      <td>NaN</td>\n",
       "      <td>NaN</td>\n",
       "      <td>NaN</td>\n",
       "    </tr>\n",
       "    <tr>\n",
       "      <th>std</th>\n",
       "      <td>1.026403e+08</td>\n",
       "      <td>3.869636e+07</td>\n",
       "      <td>NaN</td>\n",
       "      <td>NaN</td>\n",
       "      <td>NaN</td>\n",
       "      <td>NaN</td>\n",
       "      <td>1.445403</td>\n",
       "      <td>5.280166</td>\n",
       "      <td>4.064081</td>\n",
       "      <td>2.985108</td>\n",
       "      <td>...</td>\n",
       "      <td>NaN</td>\n",
       "      <td>NaN</td>\n",
       "      <td>NaN</td>\n",
       "      <td>NaN</td>\n",
       "      <td>NaN</td>\n",
       "      <td>NaN</td>\n",
       "      <td>NaN</td>\n",
       "      <td>NaN</td>\n",
       "      <td>NaN</td>\n",
       "      <td>NaN</td>\n",
       "    </tr>\n",
       "    <tr>\n",
       "      <th>min</th>\n",
       "      <td>1.252200e+04</td>\n",
       "      <td>1.350000e+02</td>\n",
       "      <td>NaN</td>\n",
       "      <td>NaN</td>\n",
       "      <td>NaN</td>\n",
       "      <td>NaN</td>\n",
       "      <td>1.000000</td>\n",
       "      <td>1.000000</td>\n",
       "      <td>1.000000</td>\n",
       "      <td>1.000000</td>\n",
       "      <td>...</td>\n",
       "      <td>NaN</td>\n",
       "      <td>NaN</td>\n",
       "      <td>NaN</td>\n",
       "      <td>NaN</td>\n",
       "      <td>NaN</td>\n",
       "      <td>NaN</td>\n",
       "      <td>NaN</td>\n",
       "      <td>NaN</td>\n",
       "      <td>NaN</td>\n",
       "      <td>NaN</td>\n",
       "    </tr>\n",
       "    <tr>\n",
       "      <th>25%</th>\n",
       "      <td>8.496119e+07</td>\n",
       "      <td>2.341322e+07</td>\n",
       "      <td>NaN</td>\n",
       "      <td>NaN</td>\n",
       "      <td>NaN</td>\n",
       "      <td>NaN</td>\n",
       "      <td>1.000000</td>\n",
       "      <td>1.000000</td>\n",
       "      <td>1.000000</td>\n",
       "      <td>2.000000</td>\n",
       "      <td>...</td>\n",
       "      <td>NaN</td>\n",
       "      <td>NaN</td>\n",
       "      <td>NaN</td>\n",
       "      <td>NaN</td>\n",
       "      <td>NaN</td>\n",
       "      <td>NaN</td>\n",
       "      <td>NaN</td>\n",
       "      <td>NaN</td>\n",
       "      <td>NaN</td>\n",
       "      <td>NaN</td>\n",
       "    </tr>\n",
       "    <tr>\n",
       "      <th>50%</th>\n",
       "      <td>1.523890e+08</td>\n",
       "      <td>4.550514e+07</td>\n",
       "      <td>NaN</td>\n",
       "      <td>NaN</td>\n",
       "      <td>NaN</td>\n",
       "      <td>NaN</td>\n",
       "      <td>1.000000</td>\n",
       "      <td>1.000000</td>\n",
       "      <td>7.000000</td>\n",
       "      <td>4.000000</td>\n",
       "      <td>...</td>\n",
       "      <td>NaN</td>\n",
       "      <td>NaN</td>\n",
       "      <td>NaN</td>\n",
       "      <td>NaN</td>\n",
       "      <td>NaN</td>\n",
       "      <td>NaN</td>\n",
       "      <td>NaN</td>\n",
       "      <td>NaN</td>\n",
       "      <td>NaN</td>\n",
       "      <td>NaN</td>\n",
       "    </tr>\n",
       "    <tr>\n",
       "      <th>75%</th>\n",
       "      <td>2.302709e+08</td>\n",
       "      <td>8.754595e+07</td>\n",
       "      <td>NaN</td>\n",
       "      <td>NaN</td>\n",
       "      <td>NaN</td>\n",
       "      <td>NaN</td>\n",
       "      <td>3.000000</td>\n",
       "      <td>4.000000</td>\n",
       "      <td>7.000000</td>\n",
       "      <td>6.000000</td>\n",
       "      <td>...</td>\n",
       "      <td>NaN</td>\n",
       "      <td>NaN</td>\n",
       "      <td>NaN</td>\n",
       "      <td>NaN</td>\n",
       "      <td>NaN</td>\n",
       "      <td>NaN</td>\n",
       "      <td>NaN</td>\n",
       "      <td>NaN</td>\n",
       "      <td>NaN</td>\n",
       "      <td>NaN</td>\n",
       "    </tr>\n",
       "    <tr>\n",
       "      <th>max</th>\n",
       "      <td>4.438672e+08</td>\n",
       "      <td>1.895026e+08</td>\n",
       "      <td>NaN</td>\n",
       "      <td>NaN</td>\n",
       "      <td>NaN</td>\n",
       "      <td>NaN</td>\n",
       "      <td>8.000000</td>\n",
       "      <td>28.000000</td>\n",
       "      <td>25.000000</td>\n",
       "      <td>14.000000</td>\n",
       "      <td>...</td>\n",
       "      <td>NaN</td>\n",
       "      <td>NaN</td>\n",
       "      <td>NaN</td>\n",
       "      <td>NaN</td>\n",
       "      <td>NaN</td>\n",
       "      <td>NaN</td>\n",
       "      <td>NaN</td>\n",
       "      <td>NaN</td>\n",
       "      <td>NaN</td>\n",
       "      <td>NaN</td>\n",
       "    </tr>\n",
       "  </tbody>\n",
       "</table>\n",
       "<p>11 rows × 50 columns</p>\n",
       "</div>"
      ],
      "text/plain": [
       "        encounter_id   patient_nbr       race  gender      age  weight  \\\n",
       "count   1.017660e+05  1.017660e+05     101766  101766   101766  101766   \n",
       "unique           NaN           NaN          6       3       10      10   \n",
       "top              NaN           NaN  Caucasian  Female  [70-80)       ?   \n",
       "freq             NaN           NaN      76099   54708    26068   98569   \n",
       "mean    1.652016e+08  5.433040e+07        NaN     NaN      NaN     NaN   \n",
       "std     1.026403e+08  3.869636e+07        NaN     NaN      NaN     NaN   \n",
       "min     1.252200e+04  1.350000e+02        NaN     NaN      NaN     NaN   \n",
       "25%     8.496119e+07  2.341322e+07        NaN     NaN      NaN     NaN   \n",
       "50%     1.523890e+08  4.550514e+07        NaN     NaN      NaN     NaN   \n",
       "75%     2.302709e+08  8.754595e+07        NaN     NaN      NaN     NaN   \n",
       "max     4.438672e+08  1.895026e+08        NaN     NaN      NaN     NaN   \n",
       "\n",
       "        admission_type_id  discharge_disposition_id  admission_source_id  \\\n",
       "count       101766.000000             101766.000000        101766.000000   \n",
       "unique                NaN                       NaN                  NaN   \n",
       "top                   NaN                       NaN                  NaN   \n",
       "freq                  NaN                       NaN                  NaN   \n",
       "mean             2.024006                  3.715642             5.754437   \n",
       "std              1.445403                  5.280166             4.064081   \n",
       "min              1.000000                  1.000000             1.000000   \n",
       "25%              1.000000                  1.000000             1.000000   \n",
       "50%              1.000000                  1.000000             7.000000   \n",
       "75%              3.000000                  4.000000             7.000000   \n",
       "max              8.000000                 28.000000            25.000000   \n",
       "\n",
       "        time_in_hospital  ... citoglipton insulin  glyburide-metformin  \\\n",
       "count      101766.000000  ...      101766  101766               101766   \n",
       "unique               NaN  ...           1       4                    4   \n",
       "top                  NaN  ...          No      No                   No   \n",
       "freq                 NaN  ...      101766   47383               101060   \n",
       "mean            4.395987  ...         NaN     NaN                  NaN   \n",
       "std             2.985108  ...         NaN     NaN                  NaN   \n",
       "min             1.000000  ...         NaN     NaN                  NaN   \n",
       "25%             2.000000  ...         NaN     NaN                  NaN   \n",
       "50%             4.000000  ...         NaN     NaN                  NaN   \n",
       "75%             6.000000  ...         NaN     NaN                  NaN   \n",
       "max            14.000000  ...         NaN     NaN                  NaN   \n",
       "\n",
       "        glipizide-metformin  glimepiride-pioglitazone  \\\n",
       "count                101766                    101766   \n",
       "unique                    2                         2   \n",
       "top                      No                        No   \n",
       "freq                 101753                    101765   \n",
       "mean                    NaN                       NaN   \n",
       "std                     NaN                       NaN   \n",
       "min                     NaN                       NaN   \n",
       "25%                     NaN                       NaN   \n",
       "50%                     NaN                       NaN   \n",
       "75%                     NaN                       NaN   \n",
       "max                     NaN                       NaN   \n",
       "\n",
       "        metformin-rosiglitazone  metformin-pioglitazone  change diabetesMed  \\\n",
       "count                    101766                  101766  101766      101766   \n",
       "unique                        2                       2       2           2   \n",
       "top                          No                      No      No         Yes   \n",
       "freq                     101764                  101765   54755       78363   \n",
       "mean                        NaN                     NaN     NaN         NaN   \n",
       "std                         NaN                     NaN     NaN         NaN   \n",
       "min                         NaN                     NaN     NaN         NaN   \n",
       "25%                         NaN                     NaN     NaN         NaN   \n",
       "50%                         NaN                     NaN     NaN         NaN   \n",
       "75%                         NaN                     NaN     NaN         NaN   \n",
       "max                         NaN                     NaN     NaN         NaN   \n",
       "\n",
       "       readmitted  \n",
       "count      101766  \n",
       "unique          3  \n",
       "top            NO  \n",
       "freq        54864  \n",
       "mean          NaN  \n",
       "std           NaN  \n",
       "min           NaN  \n",
       "25%           NaN  \n",
       "50%           NaN  \n",
       "75%           NaN  \n",
       "max           NaN  \n",
       "\n",
       "[11 rows x 50 columns]"
      ]
     },
     "execution_count": 6,
     "metadata": {},
     "output_type": "execute_result"
    }
   ],
   "source": [
    "df.describe(include = 'all')"
   ]
  },
  {
   "cell_type": "markdown",
   "id": "56cf3aa32fa17b1b",
   "metadata": {},
   "source": [
    "## Numerical Columns Distributions"
   ]
  },
  {
   "cell_type": "code",
   "execution_count": 7,
   "id": "57cb0f837d67e196",
   "metadata": {
    "ExecuteTime": {
     "end_time": "2024-02-16T11:57:10.349054Z",
     "start_time": "2024-02-16T11:57:07.753575Z"
    }
   },
   "outputs": [
    {
     "data": {
      "text/plain": [
       "(101766, 13)"
      ]
     },
     "execution_count": 7,
     "metadata": {},
     "output_type": "execute_result"
    }
   ],
   "source": [
    "num_df = df.select_dtypes(include = ['number'])\n",
    "num_df.shape"
   ]
  },
  {
   "cell_type": "code",
   "execution_count": 8,
   "id": "ab53064b1c3caf33",
   "metadata": {
    "ExecuteTime": {
     "end_time": "2024-02-16T11:57:11.755440Z",
     "start_time": "2024-02-16T11:57:07.759545Z"
    }
   },
   "outputs": [
    {
     "name": "stdout",
     "output_type": "stream",
     "text": [
      "Index(['encounter_id', 'patient_nbr', 'admission_type_id',\n",
      "       'discharge_disposition_id', 'admission_source_id', 'time_in_hospital',\n",
      "       'num_lab_procedures', 'num_procedures', 'num_medications',\n",
      "       'number_outpatient', 'number_emergency', 'number_inpatient',\n",
      "       'number_diagnoses'],\n",
      "      dtype='object')\n"
     ]
    },
    {
     "data": {
      "image/png": "[encoded data removed]",
      "text/plain": [
       "<Figure size 640x480 with 16 Axes>"
      ]
     },
     "metadata": {},
     "output_type": "display_data"
    }
   ],
   "source": [
    "print(num_df.columns)\n",
    "num_df.hist(alpha=0.5, bins=10)\n",
    "plt.suptitle('Histograms of Numeric Columns')\n",
    "plt.xlabel('Value')\n",
    "plt.ylabel('Frequency')\n",
    "plt.show()"
   ]
  },
  {
   "cell_type": "markdown",
   "id": "eea45ac80da80852",
   "metadata": {},
   "source": [
    "encounter_id and patient_nbr are identifiers.\n",
    "admission_type_id, discharge_disposition_id and admission_source_id are actually categorical features\n",
    "Source: https://archive.ics.uci.edu/dataset/296/diabetes+130-us+hospitals+for+years+1999-2008"
   ]
  },
  {
   "cell_type": "markdown",
   "id": "b0f85327bccdc05a",
   "metadata": {},
   "source": [
    "## Categorical columns distributions"
   ]
  },
  {
   "cell_type": "markdown",
   "id": "ed8e2b9e3b1c310b",
   "metadata": {},
   "source": [
    "Here we analyze the distinct values that categorical features can take and its weight within the column"
   ]
  },
  {
   "cell_type": "code",
   "execution_count": 9,
   "id": "ace2c199417e4cf",
   "metadata": {
    "ExecuteTime": {
     "end_time": "2024-02-16T11:57:11.756654Z",
     "start_time": "2024-02-16T11:57:09.422374Z"
    }
   },
   "outputs": [
    {
     "name": "stdout",
     "output_type": "stream",
     "text": [
      "readmitted\n",
      "NO     0.539119\n",
      ">30    0.349282\n",
      "<30    0.111599\n",
      "Name: proportion, dtype: float64\n",
      "race\n",
      "Caucasian          0.747784\n",
      "AfricanAmerican    0.188766\n",
      "?                  0.022336\n",
      "Hispanic           0.020017\n",
      "Other              0.014799\n",
      "Asian              0.006299\n",
      "Name: proportion, dtype: float64\n",
      "gender\n",
      "Female             0.537586\n",
      "Male               0.462384\n",
      "Unknown/Invalid    0.000029\n",
      "Name: proportion, dtype: float64\n",
      "age\n",
      "[70-80)     0.256156\n",
      "[60-70)     0.220928\n",
      "[50-60)     0.169565\n",
      "[80-90)     0.168986\n",
      "[40-50)     0.095169\n",
      "[30-40)     0.037095\n",
      "[90-100)    0.027445\n",
      "[20-30)     0.016282\n",
      "[10-20)     0.006790\n",
      "[0-10)      0.001582\n",
      "Name: proportion, dtype: float64\n",
      "weight\n",
      "?            0.968585\n",
      "[75-100)     0.013128\n",
      "[50-75)      0.008814\n",
      "[100-125)    0.006142\n",
      "[125-150)    0.001425\n",
      "[25-50)      0.000953\n",
      "[0-25)       0.000472\n",
      "[150-175)    0.000344\n",
      "[175-200)    0.000108\n",
      ">200         0.000029\n",
      "Name: proportion, dtype: float64\n",
      "admission_type_id\n",
      "1    0.530531\n",
      "3    0.185416\n",
      "2    0.181593\n",
      "6    0.051992\n",
      "5    0.047020\n",
      "8    0.003144\n",
      "7    0.000206\n",
      "4    0.000098\n",
      "Name: proportion, dtype: float64\n",
      "discharge_disposition_id\n",
      "1     0.591887\n",
      "3     0.137118\n",
      "6     0.126781\n",
      "18    0.036269\n",
      "2     0.020911\n",
      "22    0.019584\n",
      "11    0.016135\n",
      "5     0.011635\n",
      "25    0.009718\n",
      "4     0.008009\n",
      "7     0.006122\n",
      "23    0.004049\n",
      "13    0.003921\n",
      "14    0.003655\n",
      "28    0.001366\n",
      "8     0.001061\n",
      "15    0.000619\n",
      "24    0.000472\n",
      "9     0.000206\n",
      "17    0.000138\n",
      "16    0.000108\n",
      "19    0.000079\n",
      "10    0.000059\n",
      "27    0.000049\n",
      "12    0.000029\n",
      "20    0.000020\n",
      "Name: proportion, dtype: float64\n",
      "admission_source_id\n",
      "7     0.564963\n",
      "1     0.290519\n",
      "17    0.066633\n",
      "4     0.031317\n",
      "6     0.022247\n",
      "2     0.010848\n",
      "5     0.008402\n",
      "3     0.001838\n",
      "20    0.001582\n",
      "9     0.001228\n",
      "8     0.000157\n",
      "22    0.000118\n",
      "10    0.000079\n",
      "14    0.000020\n",
      "11    0.000020\n",
      "25    0.000020\n",
      "13    0.000010\n",
      "Name: proportion, dtype: float64\n",
      "payer_code\n",
      "?     0.395574\n",
      "MC    0.318761\n",
      "HM    0.061651\n",
      "SP    0.049201\n",
      "BC    0.045742\n",
      "MD    0.034707\n",
      "CP    0.024890\n",
      "UN    0.024055\n",
      "CM    0.019034\n",
      "OG    0.010151\n",
      "PO    0.005817\n",
      "DM    0.005395\n",
      "CH    0.001435\n",
      "WC    0.001327\n",
      "OT    0.000934\n",
      "MP    0.000776\n",
      "SI    0.000540\n",
      "FR    0.000010\n",
      "Name: proportion, dtype: float64\n",
      "medical_specialty\n",
      "?                                   0.490822\n",
      "InternalMedicine                    0.143810\n",
      "Emergency/Trauma                    0.074337\n",
      "Family/GeneralPractice              0.073109\n",
      "Cardiology                          0.052591\n",
      "                                      ...   \n",
      "Surgery-PlasticwithinHeadandNeck    0.000010\n",
      "Psychiatry-Addictive                0.000010\n",
      "Proctology                          0.000010\n",
      "Dermatology                         0.000010\n",
      "SportsMedicine                      0.000010\n",
      "Name: proportion, Length: 73, dtype: float64\n",
      "max_glu_serum\n",
      "Norm    0.485784\n",
      ">200    0.277778\n",
      ">300    0.236438\n",
      "Name: proportion, dtype: float64\n",
      "A1Cresult\n",
      ">8      0.482783\n",
      "Norm    0.293219\n",
      ">7      0.223998\n",
      "Name: proportion, dtype: float64\n",
      "change\n",
      "No    0.538048\n",
      "Ch    0.461952\n",
      "Name: proportion, dtype: float64\n",
      "diabetesMed\n",
      "Yes    0.770031\n",
      "No     0.229969\n",
      "Name: proportion, dtype: float64\n"
     ]
    }
   ],
   "source": [
    "cat_columns = ['readmitted',\n",
    "               'race',\n",
    "               'gender',\n",
    "               'age',\n",
    "               'weight',\n",
    "               'admission_type_id',\n",
    "               'discharge_disposition_id',\n",
    "               'admission_source_id',\n",
    "               'payer_code',\n",
    "               'medical_specialty',\n",
    "               'max_glu_serum',\n",
    "               'A1Cresult',\n",
    "               'change',\n",
    "               'diabetesMed']\n",
    "\n",
    "for i in cat_columns:\n",
    "    print(df[i].value_counts(normalize = True))"
   ]
  },
  {
   "cell_type": "markdown",
   "id": "91420f291b7df032",
   "metadata": {},
   "source": [
    "# Missing values"
   ]
  },
  {
   "cell_type": "code",
   "execution_count": 10,
   "id": "7b7a61be79e0314e",
   "metadata": {
    "ExecuteTime": {
     "end_time": "2024-02-16T11:57:11.758390Z",
     "start_time": "2024-02-16T11:57:09.820221Z"
    }
   },
   "outputs": [
    {
     "data": {
      "text/plain": [
       "encounter_id                    0\n",
       "patient_nbr                     0\n",
       "race                            0\n",
       "gender                          0\n",
       "age                             0\n",
       "weight                          0\n",
       "admission_type_id               0\n",
       "discharge_disposition_id        0\n",
       "admission_source_id             0\n",
       "time_in_hospital                0\n",
       "payer_code                      0\n",
       "medical_specialty               0\n",
       "num_lab_procedures              0\n",
       "num_procedures                  0\n",
       "num_medications                 0\n",
       "number_outpatient               0\n",
       "number_emergency                0\n",
       "number_inpatient                0\n",
       "diag_1                          0\n",
       "diag_2                          0\n",
       "diag_3                          0\n",
       "number_diagnoses                0\n",
       "max_glu_serum               96420\n",
       "A1Cresult                   84748\n",
       "metformin                       0\n",
       "repaglinide                     0\n",
       "nateglinide                     0\n",
       "chlorpropamide                  0\n",
       "glimepiride                     0\n",
       "acetohexamide                   0\n",
       "glipizide                       0\n",
       "glyburide                       0\n",
       "tolbutamide                     0\n",
       "pioglitazone                    0\n",
       "rosiglitazone                   0\n",
       "acarbose                        0\n",
       "miglitol                        0\n",
       "troglitazone                    0\n",
       "tolazamide                      0\n",
       "examide                         0\n",
       "citoglipton                     0\n",
       "insulin                         0\n",
       "glyburide-metformin             0\n",
       "glipizide-metformin             0\n",
       "glimepiride-pioglitazone        0\n",
       "metformin-rosiglitazone         0\n",
       "metformin-pioglitazone          0\n",
       "change                          0\n",
       "diabetesMed                     0\n",
       "readmitted                      0\n",
       "dtype: int64"
      ]
     },
     "execution_count": 10,
     "metadata": {},
     "output_type": "execute_result"
    }
   ],
   "source": [
    "df.isna().sum()"
   ]
  },
  {
   "cell_type": "code",
   "execution_count": 11,
   "id": "570d37efdc15b3d4",
   "metadata": {
    "ExecuteTime": {
     "end_time": "2024-02-16T11:57:11.759195Z",
     "start_time": "2024-02-16T11:57:10.113573Z"
    }
   },
   "outputs": [
    {
     "data": {
      "text/plain": [
       "encounter_id                    0\n",
       "patient_nbr                     0\n",
       "race                         2273\n",
       "gender                          0\n",
       "age                             0\n",
       "weight                      98569\n",
       "admission_type_id               0\n",
       "discharge_disposition_id        0\n",
       "admission_source_id             0\n",
       "time_in_hospital                0\n",
       "payer_code                  40256\n",
       "medical_specialty           49949\n",
       "num_lab_procedures              0\n",
       "num_procedures                  0\n",
       "num_medications                 0\n",
       "number_outpatient               0\n",
       "number_emergency                0\n",
       "number_inpatient                0\n",
       "diag_1                         21\n",
       "diag_2                        358\n",
       "diag_3                       1423\n",
       "number_diagnoses                0\n",
       "max_glu_serum                   0\n",
       "A1Cresult                       0\n",
       "metformin                       0\n",
       "repaglinide                     0\n",
       "nateglinide                     0\n",
       "chlorpropamide                  0\n",
       "glimepiride                     0\n",
       "acetohexamide                   0\n",
       "glipizide                       0\n",
       "glyburide                       0\n",
       "tolbutamide                     0\n",
       "pioglitazone                    0\n",
       "rosiglitazone                   0\n",
       "acarbose                        0\n",
       "miglitol                        0\n",
       "troglitazone                    0\n",
       "tolazamide                      0\n",
       "examide                         0\n",
       "citoglipton                     0\n",
       "insulin                         0\n",
       "glyburide-metformin             0\n",
       "glipizide-metformin             0\n",
       "glimepiride-pioglitazone        0\n",
       "metformin-rosiglitazone         0\n",
       "metformin-pioglitazone          0\n",
       "change                          0\n",
       "diabetesMed                     0\n",
       "readmitted                      0\n",
       "dtype: int64"
      ]
     },
     "execution_count": 11,
     "metadata": {},
     "output_type": "execute_result"
    }
   ],
   "source": [
    "(df == '?').sum()"
   ]
  },
  {
   "cell_type": "markdown",
   "id": "6a7986ba50ca32b7",
   "metadata": {},
   "source": [
    "Missing values are denoted with the '?' character"
   ]
  },
  {
   "cell_type": "markdown",
   "id": "43d47185c07907e5",
   "metadata": {},
   "source": [
    "## Outliers detection"
   ]
  },
  {
   "cell_type": "markdown",
   "id": "629ca9adc787cd18",
   "metadata": {},
   "source": [
    "Here we just identify whether there are outliers or not in numerical features with boxplots. Treatment of outliers and missing values comes in Data manipulation step"
   ]
  },
  {
   "cell_type": "code",
   "execution_count": 12,
   "id": "2978c1cea4916135",
   "metadata": {
    "ExecuteTime": {
     "end_time": "2024-02-16T11:57:11.869410Z",
     "start_time": "2024-02-16T11:57:10.122335Z"
    }
   },
   "outputs": [
    {
     "name": "stdout",
     "output_type": "stream",
     "text": [
      "Index(['time_in_hospital', 'num_lab_procedures', 'num_procedures',\n",
      "       'num_medications', 'number_outpatient', 'number_emergency',\n",
      "       'number_inpatient', 'number_diagnoses'],\n",
      "      dtype='object')\n"
     ]
    },
    {
     "data": {
      "image/png": "[encoded data removed]",
      "text/plain": [
       "<Figure size 640x480 with 8 Axes>"
      ]
     },
     "metadata": {},
     "output_type": "display_data"
    }
   ],
   "source": [
    "num_df.drop(['encounter_id', \n",
    "             'patient_nbr', \n",
    "             'admission_type_id',\n",
    "             'discharge_disposition_id',\n",
    "             'admission_source_id'], axis = 1,inplace = True)\n",
    "\n",
    "print(num_df.columns)\n",
    "fig, axes = plt.subplots(2, 4) \n",
    "\n",
    "axes_flat = axes.flatten()\n",
    "\n",
    "for ax, column in zip(axes_flat, num_df.columns):\n",
    "    ax.boxplot(num_df[column])\n",
    "    ax.set_title(column)\n",
    "\n",
    "plt.suptitle('Boxplots of Numeric Columns')\n",
    "plt.tight_layout(rect=[0, 0, 1, 0.95])  # Adjust layout to make room for the suptitle\n",
    "plt.show()"
   ]
  },
  {
   "cell_type": "markdown",
   "id": "351d5a105ac54df4",
   "metadata": {},
   "source": [
    "# Data Manipulation"
   ]
  },
  {
   "cell_type": "code",
   "execution_count": 13,
   "id": "ac229475267b3966",
   "metadata": {
    "ExecuteTime": {
     "end_time": "2024-02-16T11:57:11.873859Z",
     "start_time": "2024-02-16T11:57:11.262632Z"
    }
   },
   "outputs": [
    {
     "data": {
      "text/plain": [
       "encounter_id                object\n",
       "patient_nbr                 object\n",
       "race                        object\n",
       "gender                      object\n",
       "age                         object\n",
       "weight                      object\n",
       "admission_type_id            int64\n",
       "discharge_disposition_id     int64\n",
       "admission_source_id          int64\n",
       "time_in_hospital             int64\n",
       "payer_code                  object\n",
       "medical_specialty           object\n",
       "num_lab_procedures           int64\n",
       "num_procedures               int64\n",
       "num_medications              int64\n",
       "number_outpatient            int64\n",
       "number_emergency             int64\n",
       "number_inpatient             int64\n",
       "diag_1                      object\n",
       "diag_2                      object\n",
       "diag_3                      object\n",
       "number_diagnoses             int64\n",
       "max_glu_serum               object\n",
       "A1Cresult                   object\n",
       "metformin                   object\n",
       "repaglinide                 object\n",
       "nateglinide                 object\n",
       "chlorpropamide              object\n",
       "glimepiride                 object\n",
       "acetohexamide               object\n",
       "glipizide                   object\n",
       "glyburide                   object\n",
       "tolbutamide                 object\n",
       "pioglitazone                object\n",
       "rosiglitazone               object\n",
       "acarbose                    object\n",
       "miglitol                    object\n",
       "troglitazone                object\n",
       "tolazamide                  object\n",
       "examide                     object\n",
       "citoglipton                 object\n",
       "insulin                     object\n",
       "glyburide-metformin         object\n",
       "glipizide-metformin         object\n",
       "glimepiride-pioglitazone    object\n",
       "metformin-rosiglitazone     object\n",
       "metformin-pioglitazone      object\n",
       "change                      object\n",
       "diabetesMed                 object\n",
       "readmitted                  object\n",
       "dtype: object"
      ]
     },
     "execution_count": 13,
     "metadata": {},
     "output_type": "execute_result"
    }
   ],
   "source": [
    "df[['encounter_id', 'patient_nbr']] = df[['encounter_id', 'patient_nbr']].astype(str)\n",
    "df.dtypes\n"
   ]
  },
  {
   "cell_type": "markdown",
   "id": "41f6b2a3d29c7958",
   "metadata": {},
   "source": [
    "## Missing values"
   ]
  },
  {
   "cell_type": "code",
   "execution_count": 14,
   "id": "176610cd5eb5584d",
   "metadata": {
    "ExecuteTime": {
     "end_time": "2024-02-16T11:57:12.055243Z",
     "start_time": "2024-02-16T11:57:11.358037Z"
    }
   },
   "outputs": [
    {
     "data": {
      "text/plain": [
       "encounter_id                    0\n",
       "patient_nbr                     0\n",
       "race                            0\n",
       "gender                          0\n",
       "age                             0\n",
       "weight                          0\n",
       "admission_type_id               0\n",
       "discharge_disposition_id        0\n",
       "admission_source_id             0\n",
       "time_in_hospital                0\n",
       "payer_code                      0\n",
       "medical_specialty               0\n",
       "num_lab_procedures              0\n",
       "num_procedures                  0\n",
       "num_medications                 0\n",
       "number_outpatient               0\n",
       "number_emergency                0\n",
       "number_inpatient                0\n",
       "diag_1                          0\n",
       "diag_2                          0\n",
       "diag_3                          0\n",
       "number_diagnoses                0\n",
       "max_glu_serum               96420\n",
       "A1Cresult                   84748\n",
       "metformin                       0\n",
       "repaglinide                     0\n",
       "nateglinide                     0\n",
       "chlorpropamide                  0\n",
       "glimepiride                     0\n",
       "acetohexamide                   0\n",
       "glipizide                       0\n",
       "glyburide                       0\n",
       "tolbutamide                     0\n",
       "pioglitazone                    0\n",
       "rosiglitazone                   0\n",
       "acarbose                        0\n",
       "miglitol                        0\n",
       "troglitazone                    0\n",
       "tolazamide                      0\n",
       "examide                         0\n",
       "citoglipton                     0\n",
       "insulin                         0\n",
       "glyburide-metformin             0\n",
       "glipizide-metformin             0\n",
       "glimepiride-pioglitazone        0\n",
       "metformin-rosiglitazone         0\n",
       "metformin-pioglitazone          0\n",
       "change                          0\n",
       "diabetesMed                     0\n",
       "readmitted                      0\n",
       "dtype: int64"
      ]
     },
     "execution_count": 14,
     "metadata": {},
     "output_type": "execute_result"
    }
   ],
   "source": [
    "df.isna().sum()"
   ]
  },
  {
   "cell_type": "code",
   "execution_count": 15,
   "id": "ccb4090a1c0c6f82",
   "metadata": {
    "ExecuteTime": {
     "end_time": "2024-02-16T11:57:12.779009Z",
     "start_time": "2024-02-16T11:57:11.926534Z"
    }
   },
   "outputs": [
    {
     "data": {
      "text/plain": [
       "encounter_id                0.000000\n",
       "patient_nbr                 0.000000\n",
       "race                        0.022336\n",
       "gender                      0.000000\n",
       "age                         0.000000\n",
       "weight                      0.968585\n",
       "admission_type_id           0.000000\n",
       "discharge_disposition_id    0.000000\n",
       "admission_source_id         0.000000\n",
       "time_in_hospital            0.000000\n",
       "payer_code                  0.395574\n",
       "medical_specialty           0.490822\n",
       "num_lab_procedures          0.000000\n",
       "num_procedures              0.000000\n",
       "num_medications             0.000000\n",
       "number_outpatient           0.000000\n",
       "number_emergency            0.000000\n",
       "number_inpatient            0.000000\n",
       "diag_1                      0.000206\n",
       "diag_2                      0.003518\n",
       "diag_3                      0.013983\n",
       "number_diagnoses            0.000000\n",
       "max_glu_serum               0.000000\n",
       "A1Cresult                   0.000000\n",
       "metformin                   0.000000\n",
       "repaglinide                 0.000000\n",
       "nateglinide                 0.000000\n",
       "chlorpropamide              0.000000\n",
       "glimepiride                 0.000000\n",
       "acetohexamide               0.000000\n",
       "glipizide                   0.000000\n",
       "glyburide                   0.000000\n",
       "tolbutamide                 0.000000\n",
       "pioglitazone                0.000000\n",
       "rosiglitazone               0.000000\n",
       "acarbose                    0.000000\n",
       "miglitol                    0.000000\n",
       "troglitazone                0.000000\n",
       "tolazamide                  0.000000\n",
       "examide                     0.000000\n",
       "citoglipton                 0.000000\n",
       "insulin                     0.000000\n",
       "glyburide-metformin         0.000000\n",
       "glipizide-metformin         0.000000\n",
       "glimepiride-pioglitazone    0.000000\n",
       "metformin-rosiglitazone     0.000000\n",
       "metformin-pioglitazone      0.000000\n",
       "change                      0.000000\n",
       "diabetesMed                 0.000000\n",
       "readmitted                  0.000000\n",
       "dtype: float64"
      ]
     },
     "execution_count": 15,
     "metadata": {},
     "output_type": "execute_result"
    }
   ],
   "source": [
    "(df == '?').sum() / df.shape[0]"
   ]
  },
  {
   "cell_type": "markdown",
   "id": "9ea7f4a8e20414fe",
   "metadata": {},
   "source": [
    "Missing values in max_glu_serum and A1Cresult are not realy missing values. Not measured was reported as None which is automatically a missing value for pandas library.\n",
    "source: https://archive.ics.uci.edu/dataset/296/diabetes+130-us+hospitals+for+years+1999-2008"
   ]
  },
  {
   "cell_type": "code",
   "execution_count": 16,
   "id": "95719417b5bd7434",
   "metadata": {
    "ExecuteTime": {
     "end_time": "2024-02-16T11:57:12.952242Z",
     "start_time": "2024-02-16T11:57:11.939870Z"
    }
   },
   "outputs": [
    {
     "data": {
      "text/plain": [
       "0    50\n",
       "Name: count, dtype: int64"
      ]
     },
     "execution_count": 16,
     "metadata": {},
     "output_type": "execute_result"
    }
   ],
   "source": [
    "df.fillna({'max_glu_serum': 'Not measured',\n",
    "           'A1Cresult': 'Not measured'}, inplace=True)\n",
    "df.isna().sum().value_counts()"
   ]
  },
  {
   "cell_type": "markdown",
   "id": "e3393f6da8b7f36a",
   "metadata": {},
   "source": [
    "weight and payer_code were removed because of the high percentage of missing values and the low explainability they may have with readmissions"
   ]
  },
  {
   "cell_type": "code",
   "execution_count": 17,
   "id": "dbc9faf3ff9d3a29",
   "metadata": {
    "ExecuteTime": {
     "end_time": "2024-02-16T11:57:12.954500Z",
     "start_time": "2024-02-16T11:57:12.152688Z"
    }
   },
   "outputs": [],
   "source": [
    "df.drop(['weight', 'payer_code'], axis = 1, inplace=True)"
   ]
  },
  {
   "cell_type": "code",
   "execution_count": 18,
   "id": "1293d8acc5d38edf",
   "metadata": {
    "ExecuteTime": {
     "end_time": "2024-02-16T11:57:12.956079Z",
     "start_time": "2024-02-16T11:57:12.217569Z"
    }
   },
   "outputs": [
    {
     "data": {
      "text/plain": [
       "race\n",
       "Caucasian          0.747784\n",
       "AfricanAmerican    0.188766\n",
       "?                  0.022336\n",
       "Hispanic           0.020017\n",
       "Other              0.014799\n",
       "Asian              0.006299\n",
       "Name: proportion, dtype: float64"
      ]
     },
     "execution_count": 18,
     "metadata": {},
     "output_type": "execute_result"
    }
   ],
   "source": [
    "df['race'].value_counts(normalize=True)"
   ]
  },
  {
   "cell_type": "markdown",
   "id": "3011a4966192b8c9",
   "metadata": {},
   "source": [
    "medical_specialty missing values are considered as a new category as it may be an informative feature for the target variable. This also happen with primary diagnosis and secondary diagnoses (missingness was replaced by \"Missing\")\n",
    "\n",
    "In the case of race, as missing values were aproximately 2% of the values they were added to \"Other\""
   ]
  },
  {
   "cell_type": "code",
   "execution_count": 19,
   "id": "695744e6e5287cc1",
   "metadata": {
    "ExecuteTime": {
     "end_time": "2024-02-16T11:57:26.783684Z",
     "start_time": "2024-02-16T11:57:12.268849Z"
    }
   },
   "outputs": [],
   "source": [
    "df[['medical_specialty',\n",
    "    'diag_1',\n",
    "    'diag_2',\n",
    "    'diag_3']] = df[['medical_specialty',\n",
    "                     'diag_1',\n",
    "                     'diag_2',\n",
    "                     'diag_3']].apply(lambda x: x.str.replace('?', 'Missing'), axis = 1)\n",
    "\n",
    "df['race'] = df['race'].str.replace('?', 'Other')\n",
    "df = df.loc[(df['gender'] != 'Unknown/Invalid'),:]"
   ]
  },
  {
   "cell_type": "code",
   "execution_count": 20,
   "id": "12dca17525859d69",
   "metadata": {
    "ExecuteTime": {
     "end_time": "2024-02-16T11:57:27.020037Z",
     "start_time": "2024-02-16T11:57:26.794712Z"
    }
   },
   "outputs": [
    {
     "data": {
      "text/plain": [
       "encounter_id                0.0\n",
       "patient_nbr                 0.0\n",
       "race                        0.0\n",
       "gender                      0.0\n",
       "age                         0.0\n",
       "admission_type_id           0.0\n",
       "discharge_disposition_id    0.0\n",
       "admission_source_id         0.0\n",
       "time_in_hospital            0.0\n",
       "medical_specialty           0.0\n",
       "num_lab_procedures          0.0\n",
       "num_procedures              0.0\n",
       "num_medications             0.0\n",
       "number_outpatient           0.0\n",
       "number_emergency            0.0\n",
       "number_inpatient            0.0\n",
       "diag_1                      0.0\n",
       "diag_2                      0.0\n",
       "diag_3                      0.0\n",
       "number_diagnoses            0.0\n",
       "max_glu_serum               0.0\n",
       "A1Cresult                   0.0\n",
       "metformin                   0.0\n",
       "repaglinide                 0.0\n",
       "nateglinide                 0.0\n",
       "chlorpropamide              0.0\n",
       "glimepiride                 0.0\n",
       "acetohexamide               0.0\n",
       "glipizide                   0.0\n",
       "glyburide                   0.0\n",
       "tolbutamide                 0.0\n",
       "pioglitazone                0.0\n",
       "rosiglitazone               0.0\n",
       "acarbose                    0.0\n",
       "miglitol                    0.0\n",
       "troglitazone                0.0\n",
       "tolazamide                  0.0\n",
       "examide                     0.0\n",
       "citoglipton                 0.0\n",
       "insulin                     0.0\n",
       "glyburide-metformin         0.0\n",
       "glipizide-metformin         0.0\n",
       "glimepiride-pioglitazone    0.0\n",
       "metformin-rosiglitazone     0.0\n",
       "metformin-pioglitazone      0.0\n",
       "change                      0.0\n",
       "diabetesMed                 0.0\n",
       "readmitted                  0.0\n",
       "dtype: float64"
      ]
     },
     "execution_count": 20,
     "metadata": {},
     "output_type": "execute_result"
    }
   ],
   "source": [
    "(df == '?').sum() / df.shape[0]"
   ]
  },
  {
   "cell_type": "markdown",
   "id": "6827df53414320c0",
   "metadata": {},
   "source": [
    "## Outliers"
   ]
  },
  {
   "cell_type": "code",
   "execution_count": 21,
   "id": "8b824092fab78ed1",
   "metadata": {
    "ExecuteTime": {
     "end_time": "2024-02-16T11:57:28.545314Z",
     "start_time": "2024-02-16T11:57:27.018016Z"
    }
   },
   "outputs": [
    {
     "data": {
      "image/png": "[encoded data removed]",
      "text/plain": [
       "<Figure size 640x480 with 8 Axes>"
      ]
     },
     "metadata": {},
     "output_type": "display_data"
    }
   ],
   "source": [
    "cat_columns = list(df.select_dtypes(object).columns)\n",
    "cat_columns.extend(['admission_type_id',\n",
    "                    'discharge_disposition_id',\n",
    "                    'admission_source_id'])\n",
    "df[cat_columns] = df[cat_columns].astype('category')\n",
    "num_columns = list(df.select_dtypes(include = ['number']).columns)\n",
    "num_df = df[num_columns]\n",
    "fig, axes = plt.subplots(2, 4) # Adjust figure size as needed\n",
    "\n",
    "# Flatten the 2D array of axes to make it iterable in a 1D fashion\n",
    "axes_flat = axes.flatten()\n",
    "\n",
    "# Iterate over the flattened axes array and the DataFrame columns together\n",
    "for ax, column in zip(axes_flat, num_df.columns):\n",
    "    ax.boxplot(num_df[column])\n",
    "    ax.set_title(column)\n",
    "\n",
    "plt.suptitle('Boxplots of Numeric Columns')\n",
    "plt.tight_layout(rect=[0, 0, 1, 0.95])  # Adjust layout to make room for the suptitle\n",
    "plt.show()"
   ]
  },
  {
   "cell_type": "code",
   "execution_count": 22,
   "id": "3f0defae2b2caafb",
   "metadata": {
    "ExecuteTime": {
     "end_time": "2024-02-16T11:57:29.002226Z",
     "start_time": "2024-02-16T11:57:28.541370Z"
    }
   },
   "outputs": [
    {
     "data": {
      "image/png": "[encoded data removed]",
      "text/plain": [
       "<Figure size 640x480 with 4 Axes>"
      ]
     },
     "metadata": {},
     "output_type": "display_data"
    }
   ],
   "source": [
    "df[['number_outpatient',\n",
    "    'number_emergency',\n",
    "    'number_inpatient']].hist(alpha=0.5, bins=10)\n",
    "plt.suptitle('Histograms of Numeric Columns')\n",
    "plt.xlabel('Value')\n",
    "plt.ylabel('Frequency')\n",
    "plt.show()"
   ]
  },
  {
   "cell_type": "markdown",
   "id": "f44dbd51d9a97a84",
   "metadata": {},
   "source": [
    "Outliers were removed with IQR method using alpha = 1.5\n",
    "Due to the dstribution of number_outpatient, number_impatient and number_emergency it doesn't make sense to disrigard outliers with IQR method"
   ]
  },
  {
   "cell_type": "code",
   "execution_count": 23,
   "id": "a2f706de6ca89735",
   "metadata": {
    "ExecuteTime": {
     "end_time": "2024-02-16T11:57:29.121250Z",
     "start_time": "2024-02-16T11:57:29.001715Z"
    }
   },
   "outputs": [
    {
     "data": {
      "text/html": [
       "<div>\n",
       "<style scoped>\n",
       "    .dataframe tbody tr th:only-of-type {\n",
       "        vertical-align: middle;\n",
       "    }\n",
       "\n",
       "    .dataframe tbody tr th {\n",
       "        vertical-align: top;\n",
       "    }\n",
       "\n",
       "    .dataframe thead th {\n",
       "        text-align: right;\n",
       "    }\n",
       "</style>\n",
       "<table border=\"1\" class=\"dataframe\">\n",
       "  <thead>\n",
       "    <tr style=\"text-align: right;\">\n",
       "      <th></th>\n",
       "      <th>time_in_hospital</th>\n",
       "      <th>num_lab_procedures</th>\n",
       "      <th>num_procedures</th>\n",
       "      <th>num_medications</th>\n",
       "      <th>number_diagnoses</th>\n",
       "    </tr>\n",
       "  </thead>\n",
       "  <tbody>\n",
       "    <tr>\n",
       "      <th>0.25</th>\n",
       "      <td>2.0</td>\n",
       "      <td>31.0</td>\n",
       "      <td>0.0</td>\n",
       "      <td>10.0</td>\n",
       "      <td>6.0</td>\n",
       "    </tr>\n",
       "    <tr>\n",
       "      <th>0.75</th>\n",
       "      <td>6.0</td>\n",
       "      <td>57.0</td>\n",
       "      <td>2.0</td>\n",
       "      <td>20.0</td>\n",
       "      <td>9.0</td>\n",
       "    </tr>\n",
       "  </tbody>\n",
       "</table>\n",
       "</div>"
      ],
      "text/plain": [
       "      time_in_hospital  num_lab_procedures  num_procedures  num_medications  \\\n",
       "0.25               2.0                31.0             0.0             10.0   \n",
       "0.75               6.0                57.0             2.0             20.0   \n",
       "\n",
       "      number_diagnoses  \n",
       "0.25               6.0  \n",
       "0.75               9.0  "
      ]
     },
     "execution_count": 23,
     "metadata": {},
     "output_type": "execute_result"
    }
   ],
   "source": [
    "no_iqr_considered = ['number_outpatient',\n",
    "                     'number_emergency',\n",
    "                     'number_inpatient']\n",
    "quantiles = df[num_columns]\\\n",
    "    .drop(no_iqr_considered, axis = 1)\\\n",
    "    .quantile([0.25,0.75])\n",
    "quantiles"
   ]
  },
  {
   "cell_type": "code",
   "execution_count": 24,
   "id": "71b2265978ebcaaf",
   "metadata": {
    "ExecuteTime": {
     "end_time": "2024-02-16T11:57:29.122436Z",
     "start_time": "2024-02-16T11:57:29.025245Z"
    }
   },
   "outputs": [
    {
     "data": {
      "text/plain": [
       "time_in_hospital       4.0\n",
       "num_lab_procedures    26.0\n",
       "num_procedures         2.0\n",
       "num_medications       10.0\n",
       "number_diagnoses       3.0\n",
       "dtype: float64"
      ]
     },
     "execution_count": 24,
     "metadata": {},
     "output_type": "execute_result"
    }
   ],
   "source": [
    "IQR = quantiles.loc[0.75] - quantiles.loc[0.25]\n",
    "IQR"
   ]
  },
  {
   "cell_type": "code",
   "execution_count": 25,
   "id": "727fb83148596317",
   "metadata": {
    "ExecuteTime": {
     "end_time": "2024-02-16T11:57:29.124581Z",
     "start_time": "2024-02-16T11:57:29.031281Z"
    }
   },
   "outputs": [
    {
     "name": "stdout",
     "output_type": "stream",
     "text": [
      "Rows before removing outliers: 101763\n",
      "Rows after removing outliers: 93075\n"
     ]
    }
   ],
   "source": [
    "print(f'Rows before removing outliers: {df.shape[0]}')\n",
    "for i in quantiles.columns:\n",
    "    df[i] = df[i].where(\n",
    "        (df[i] <= quantiles[i][0.75] + IQR[i]*1.5) &\n",
    "        (df[i] >= quantiles[i][0.25] - IQR[i]*1.5)\n",
    "    )\n",
    "\n",
    "df.dropna(inplace=True)\n",
    "print(f'Rows after removing outliers: {df.shape[0]}')"
   ]
  },
  {
   "cell_type": "code",
   "execution_count": 26,
   "id": "82a996e172278b88",
   "metadata": {
    "ExecuteTime": {
     "end_time": "2024-02-16T11:57:29.125081Z",
     "start_time": "2024-02-16T11:57:29.058120Z"
    }
   },
   "outputs": [
    {
     "data": {
      "text/plain": [
       "readmitted\n",
       "NO     0.535751\n",
       ">30    0.352200\n",
       "<30    0.112049\n",
       "Name: proportion, dtype: float64"
      ]
     },
     "execution_count": 26,
     "metadata": {},
     "output_type": "execute_result"
    }
   ],
   "source": [
    "df['readmitted'].value_counts(normalize=True)"
   ]
  },
  {
   "cell_type": "markdown",
   "id": "f432e9265557f58d",
   "metadata": {},
   "source": [
    "## Categorical features (encoding)"
   ]
  },
  {
   "cell_type": "markdown",
   "id": "8a9dd5e94e570a73",
   "metadata": {},
   "source": [
    "Target variable was encoded ordinally with 0 being not readmitted, 1 being readmitted within the first month and 2 afterwards"
   ]
  },
  {
   "cell_type": "code",
   "execution_count": 27,
   "id": "c5d5737ad2f9e902",
   "metadata": {
    "ExecuteTime": {
     "end_time": "2024-02-16T11:57:29.139327Z",
     "start_time": "2024-02-16T11:57:29.068227Z"
    }
   },
   "outputs": [],
   "source": [
    "encode = {'NO': 0,\n",
    "          '<30': 1,\n",
    "          '>30': 2}\n",
    "\n",
    "df['readmitted'] = df['readmitted'].replace(encode)\n",
    "df['readmitted'] = df['readmitted'].astype(int)"
   ]
  },
  {
   "cell_type": "markdown",
   "id": "b60dd9313da4d46a",
   "metadata": {},
   "source": [
    "Features with two distinct values such as diabetesMed and change (basically \"Yes\" and \"No\") were binary encoded: \"Yes\" = 1 and \"No\" = 0"
   ]
  },
  {
   "cell_type": "code",
   "execution_count": 28,
   "id": "29f5c28b529620f1",
   "metadata": {
    "ExecuteTime": {
     "end_time": "2024-02-16T11:57:29.142451Z",
     "start_time": "2024-02-16T11:57:29.072275Z"
    }
   },
   "outputs": [],
   "source": [
    "#diabetesMed variable\n",
    "encode = {'No': 0,\n",
    "          'Yes': 1}\n",
    "\n",
    "df['diabetesMed'] = df['diabetesMed'].replace(encode)"
   ]
  },
  {
   "cell_type": "code",
   "execution_count": 29,
   "id": "7e912e3fe7293930",
   "metadata": {
    "ExecuteTime": {
     "end_time": "2024-02-16T11:57:29.153275Z",
     "start_time": "2024-02-16T11:57:29.079833Z"
    }
   },
   "outputs": [],
   "source": [
    "#change variable\n",
    "encode = {'No': 0,\n",
    "          'Ch': 1}\n",
    "\n",
    "df['change'] = df['change'].replace(encode)"
   ]
  },
  {
   "cell_type": "code",
   "execution_count": 30,
   "id": "999796b3935c8c54",
   "metadata": {
    "ExecuteTime": {
     "end_time": "2024-02-16T11:57:29.156991Z",
     "start_time": "2024-02-16T11:57:29.084467Z"
    }
   },
   "outputs": [],
   "source": [
    "#gender variable\n",
    "encode = {'Male': 0,\n",
    "          'Female': 1}\n",
    "\n",
    "df['gender'] = df['gender'].replace(encode)"
   ]
  },
  {
   "cell_type": "markdown",
   "id": "beff5c23f4db2fa",
   "metadata": {},
   "source": [
    "For diag_1, diag_2 and diag_3 we will try two ways: embeddings and the replication of what an study on the HbA1c measurement impact in readmissions rate did, classifying by types of disease group (https://www.hindawi.com/journals/bmri/2014/781670/tab2/>)"
   ]
  },
  {
   "cell_type": "markdown",
   "id": "73043ee96d85382f",
   "metadata": {},
   "source": [
    "### Embeddings"
   ]
  },
  {
   "cell_type": "code",
   "execution_count": 31,
   "id": "57a67cc9072282f2",
   "metadata": {
    "ExecuteTime": {
     "end_time": "2024-02-16T11:57:29.365846Z",
     "start_time": "2024-02-16T11:57:29.095353Z"
    }
   },
   "outputs": [],
   "source": [
    "diag_codes = set(list(df[\"diag_1\"]) + list(df[\"diag_2\"]) + list(df[\"diag_3\"]))\n",
    "index2diag_code = list(diag_codes) # we want a list with indices\n",
    "n_codes = len(diag_codes)\n",
    "diag_code2index = { index2diag_code[i]:i for i in range(n_codes) }\n",
    "co_occurrence = np.zeros((n_codes, n_codes))\n",
    "frequencies = np.zeros((n_codes))"
   ]
  },
  {
   "cell_type": "code",
   "execution_count": 32,
   "id": "a40c240ba54342e9",
   "metadata": {
    "ExecuteTime": {
     "end_time": "2024-02-16T11:57:42.384574Z",
     "start_time": "2024-02-16T11:57:29.184024Z"
    }
   },
   "outputs": [],
   "source": [
    "df.reset_index(drop=True, inplace=True)\n",
    "for i in range(len(df)):\n",
    "    diag_codes_for_row = []\n",
    "    if df.loc[i,\"diag_1\"] != \"?\": diag_codes_for_row.append(df.loc[i,\"diag_1\"])\n",
    "    if df.loc[i,\"diag_2\"] != \"?\": diag_codes_for_row.append(df.loc[i,\"diag_2\"])\n",
    "    if df.loc[i,\"diag_3\"] != \"?\": diag_codes_for_row.append(df.loc[i,\"diag_3\"])\n",
    "    for j1 in range(len(diag_codes_for_row)):\n",
    "        code1 = diag_code2index[diag_codes_for_row[j1]]\n",
    "        co_occurrence[code1][code1] += 1\n",
    "        frequencies[code1] += 1\n",
    "        for j2 in range(j1+1, len(diag_codes_for_row)):\n",
    "            code2 = diag_code2index[diag_codes_for_row[j2]]\n",
    "            co_occurrence[code1][code2] += 1\n",
    "            co_occurrence[code2][code1] += 1\n",
    "\n",
    "# We want the co_occdurrence to be a probability space (sum to one each row)\n",
    "co_occurrence = co_occurrence / np.sum(co_occurrence, axis=1, keepdims=True)\n",
    "#co_occurrence_scaled = (co_occurrence - np.mean(co_occurrence, axis=0)) / np.std(co_occurrence, axis=0)"
   ]
  },
  {
   "cell_type": "code",
   "execution_count": 33,
   "id": "82e79c925f2f66b3",
   "metadata": {
    "ExecuteTime": {
     "end_time": "2024-02-16T11:57:45.342206Z",
     "start_time": "2024-02-16T11:57:42.372201Z"
    }
   },
   "outputs": [
    {
     "data": {
      "text/plain": [
       "[<matplotlib.lines.Line2D at 0x12403c710>]"
      ]
     },
     "execution_count": 33,
     "metadata": {},
     "output_type": "execute_result"
    },
    {
     "data": {
      "image/png": "[encoded data removed]",
      "text/plain": [
       "<Figure size 640x480 with 1 Axes>"
      ]
     },
     "metadata": {},
     "output_type": "display_data"
    }
   ],
   "source": [
    "from sklearn.decomposition import PCA\n",
    "pca = PCA()\n",
    "pca.fit(co_occurrence)\n",
    "plt.plot(np.cumsum(pca.explained_variance_ratio_))"
   ]
  },
  {
   "cell_type": "code",
   "execution_count": 34,
   "id": "4ed6fb87121a7d2d",
   "metadata": {
    "ExecuteTime": {
     "end_time": "2024-02-16T11:57:46.914906Z",
     "start_time": "2024-02-16T11:57:44.953522Z"
    }
   },
   "outputs": [
    {
     "data": {
      "text/plain": [
       "array([[-0.06608055, -0.04983631,  0.12808669, ...,  0.00199378,\n",
       "        -0.001986  ,  0.0049525 ],\n",
       "       [-0.02576051, -0.01467887,  0.03159305, ...,  0.0210729 ,\n",
       "        -0.01655721, -0.01298335],\n",
       "       [-0.0180373 , -0.00852941,  0.00124629, ..., -0.01857431,\n",
       "        -0.01805788, -0.01370192],\n",
       "       ...,\n",
       "       [-0.02206279, -0.02135293, -0.02363526, ..., -0.01921328,\n",
       "         0.01285586, -0.01854486],\n",
       "       [-0.01094523,  0.01697329, -0.03295555, ...,  0.00108725,\n",
       "        -0.00508363, -0.00541508],\n",
       "       [ 0.01408862,  0.10076878,  0.05943153, ..., -0.0097805 ,\n",
       "        -0.02289914,  0.00628572]])"
      ]
     },
     "execution_count": 34,
     "metadata": {},
     "output_type": "execute_result"
    }
   ],
   "source": [
    "## Embed to lower dimension, and then find nearest neighbors\n",
    "## The idea is to verify that the co_occurrence representation (after PCA)\n",
    "pca = PCA(n_components=400)\n",
    "embeddings = pca.fit_transform(co_occurrence)\n",
    "embeddings"
   ]
  },
  {
   "cell_type": "code",
   "execution_count": 35,
   "id": "efedb0d7617dd008",
   "metadata": {
    "ExecuteTime": {
     "end_time": "2024-02-16T11:57:47.098934Z",
     "start_time": "2024-02-16T11:57:46.915893Z"
    }
   },
   "outputs": [
    {
     "data": {
      "text/html": [
       "<div>\n",
       "<style scoped>\n",
       "    .dataframe tbody tr th:only-of-type {\n",
       "        vertical-align: middle;\n",
       "    }\n",
       "\n",
       "    .dataframe tbody tr th {\n",
       "        vertical-align: top;\n",
       "    }\n",
       "\n",
       "    .dataframe thead th {\n",
       "        text-align: right;\n",
       "    }\n",
       "</style>\n",
       "<table border=\"1\" class=\"dataframe\">\n",
       "  <thead>\n",
       "    <tr style=\"text-align: right;\">\n",
       "      <th></th>\n",
       "      <th>encounter_id</th>\n",
       "      <th>patient_nbr</th>\n",
       "      <th>race</th>\n",
       "      <th>gender</th>\n",
       "      <th>age</th>\n",
       "      <th>admission_type_id</th>\n",
       "      <th>discharge_disposition_id</th>\n",
       "      <th>admission_source_id</th>\n",
       "      <th>time_in_hospital</th>\n",
       "      <th>medical_specialty</th>\n",
       "      <th>...</th>\n",
       "      <th>glipizide-metformin</th>\n",
       "      <th>glimepiride-pioglitazone</th>\n",
       "      <th>metformin-rosiglitazone</th>\n",
       "      <th>metformin-pioglitazone</th>\n",
       "      <th>change</th>\n",
       "      <th>diabetesMed</th>\n",
       "      <th>readmitted</th>\n",
       "      <th>diag_1_embedding</th>\n",
       "      <th>diag_2_embedding</th>\n",
       "      <th>diag_3_embedding</th>\n",
       "    </tr>\n",
       "  </thead>\n",
       "  <tbody>\n",
       "    <tr>\n",
       "      <th>0</th>\n",
       "      <td>149190</td>\n",
       "      <td>55629189</td>\n",
       "      <td>Caucasian</td>\n",
       "      <td>1</td>\n",
       "      <td>[10-20)</td>\n",
       "      <td>1</td>\n",
       "      <td>1</td>\n",
       "      <td>7</td>\n",
       "      <td>3.0</td>\n",
       "      <td>Missing</td>\n",
       "      <td>...</td>\n",
       "      <td>No</td>\n",
       "      <td>No</td>\n",
       "      <td>No</td>\n",
       "      <td>No</td>\n",
       "      <td>1</td>\n",
       "      <td>1</td>\n",
       "      <td>2</td>\n",
       "      <td>[-0.12468104011913476, -0.07044120056302562, 0...</td>\n",
       "      <td>[0.04238530468413746, -0.06101438401508885, -0...</td>\n",
       "      <td>[-0.03613437220184295, -0.03002241686601813, 0...</td>\n",
       "    </tr>\n",
       "    <tr>\n",
       "      <th>1</th>\n",
       "      <td>64410</td>\n",
       "      <td>86047875</td>\n",
       "      <td>AfricanAmerican</td>\n",
       "      <td>1</td>\n",
       "      <td>[20-30)</td>\n",
       "      <td>1</td>\n",
       "      <td>1</td>\n",
       "      <td>7</td>\n",
       "      <td>2.0</td>\n",
       "      <td>Missing</td>\n",
       "      <td>...</td>\n",
       "      <td>No</td>\n",
       "      <td>No</td>\n",
       "      <td>No</td>\n",
       "      <td>No</td>\n",
       "      <td>0</td>\n",
       "      <td>1</td>\n",
       "      <td>0</td>\n",
       "      <td>[0.3771673064335978, -0.14788671834026543, 0.0...</td>\n",
       "      <td>[0.08710005926531675, 0.2646715448078219, 0.04...</td>\n",
       "      <td>[0.3192271070604589, -0.10997458476983393, 0.0...</td>\n",
       "    </tr>\n",
       "    <tr>\n",
       "      <th>2</th>\n",
       "      <td>500364</td>\n",
       "      <td>82442376</td>\n",
       "      <td>Caucasian</td>\n",
       "      <td>0</td>\n",
       "      <td>[30-40)</td>\n",
       "      <td>1</td>\n",
       "      <td>1</td>\n",
       "      <td>7</td>\n",
       "      <td>2.0</td>\n",
       "      <td>Missing</td>\n",
       "      <td>...</td>\n",
       "      <td>No</td>\n",
       "      <td>No</td>\n",
       "      <td>No</td>\n",
       "      <td>No</td>\n",
       "      <td>1</td>\n",
       "      <td>1</td>\n",
       "      <td>0</td>\n",
       "      <td>[-0.054890177257126256, -0.033600771175446506,...</td>\n",
       "      <td>[-0.03652402719810844, -0.04439795625753285, 0...</td>\n",
       "      <td>[-0.047199670087618766, -0.039594875425685294,...</td>\n",
       "    </tr>\n",
       "    <tr>\n",
       "      <th>3</th>\n",
       "      <td>16680</td>\n",
       "      <td>42519267</td>\n",
       "      <td>Caucasian</td>\n",
       "      <td>0</td>\n",
       "      <td>[40-50)</td>\n",
       "      <td>1</td>\n",
       "      <td>1</td>\n",
       "      <td>7</td>\n",
       "      <td>1.0</td>\n",
       "      <td>Missing</td>\n",
       "      <td>...</td>\n",
       "      <td>No</td>\n",
       "      <td>No</td>\n",
       "      <td>No</td>\n",
       "      <td>No</td>\n",
       "      <td>1</td>\n",
       "      <td>1</td>\n",
       "      <td>0</td>\n",
       "      <td>[-0.02308293414026362, -0.024831848895273942, ...</td>\n",
       "      <td>[-0.021215107027415983, -0.014918246108810847,...</td>\n",
       "      <td>[0.08710005926531675, 0.2646715448078219, 0.04...</td>\n",
       "    </tr>\n",
       "    <tr>\n",
       "      <th>4</th>\n",
       "      <td>55842</td>\n",
       "      <td>84259809</td>\n",
       "      <td>Caucasian</td>\n",
       "      <td>0</td>\n",
       "      <td>[60-70)</td>\n",
       "      <td>3</td>\n",
       "      <td>1</td>\n",
       "      <td>2</td>\n",
       "      <td>4.0</td>\n",
       "      <td>Missing</td>\n",
       "      <td>...</td>\n",
       "      <td>No</td>\n",
       "      <td>No</td>\n",
       "      <td>No</td>\n",
       "      <td>No</td>\n",
       "      <td>1</td>\n",
       "      <td>1</td>\n",
       "      <td>0</td>\n",
       "      <td>[-0.011777249192346488, 0.030405935517673566, ...</td>\n",
       "      <td>[-0.012629815495965107, 0.014157132068509052, ...</td>\n",
       "      <td>[-0.01786488770695428, -0.005143285538778951, ...</td>\n",
       "    </tr>\n",
       "  </tbody>\n",
       "</table>\n",
       "<p>5 rows × 51 columns</p>\n",
       "</div>"
      ],
      "text/plain": [
       "  encounter_id patient_nbr             race gender      age admission_type_id  \\\n",
       "0       149190    55629189        Caucasian      1  [10-20)                 1   \n",
       "1        64410    86047875  AfricanAmerican      1  [20-30)                 1   \n",
       "2       500364    82442376        Caucasian      0  [30-40)                 1   \n",
       "3        16680    42519267        Caucasian      0  [40-50)                 1   \n",
       "4        55842    84259809        Caucasian      0  [60-70)                 3   \n",
       "\n",
       "  discharge_disposition_id admission_source_id  time_in_hospital  \\\n",
       "0                        1                   7               3.0   \n",
       "1                        1                   7               2.0   \n",
       "2                        1                   7               2.0   \n",
       "3                        1                   7               1.0   \n",
       "4                        1                   2               4.0   \n",
       "\n",
       "  medical_specialty  ...  glipizide-metformin  glimepiride-pioglitazone  \\\n",
       "0           Missing  ...                   No                        No   \n",
       "1           Missing  ...                   No                        No   \n",
       "2           Missing  ...                   No                        No   \n",
       "3           Missing  ...                   No                        No   \n",
       "4           Missing  ...                   No                        No   \n",
       "\n",
       "   metformin-rosiglitazone  metformin-pioglitazone  change  diabetesMed  \\\n",
       "0                       No                      No       1            1   \n",
       "1                       No                      No       0            1   \n",
       "2                       No                      No       1            1   \n",
       "3                       No                      No       1            1   \n",
       "4                       No                      No       1            1   \n",
       "\n",
       "  readmitted                                   diag_1_embedding  \\\n",
       "0          2  [-0.12468104011913476, -0.07044120056302562, 0...   \n",
       "1          0  [0.3771673064335978, -0.14788671834026543, 0.0...   \n",
       "2          0  [-0.054890177257126256, -0.033600771175446506,...   \n",
       "3          0  [-0.02308293414026362, -0.024831848895273942, ...   \n",
       "4          0  [-0.011777249192346488, 0.030405935517673566, ...   \n",
       "\n",
       "                                    diag_2_embedding  \\\n",
       "0  [0.04238530468413746, -0.06101438401508885, -0...   \n",
       "1  [0.08710005926531675, 0.2646715448078219, 0.04...   \n",
       "2  [-0.03652402719810844, -0.04439795625753285, 0...   \n",
       "3  [-0.021215107027415983, -0.014918246108810847,...   \n",
       "4  [-0.012629815495965107, 0.014157132068509052, ...   \n",
       "\n",
       "                                    diag_3_embedding  \n",
       "0  [-0.03613437220184295, -0.03002241686601813, 0...  \n",
       "1  [0.3192271070604589, -0.10997458476983393, 0.0...  \n",
       "2  [-0.047199670087618766, -0.039594875425685294,...  \n",
       "3  [0.08710005926531675, 0.2646715448078219, 0.04...  \n",
       "4  [-0.01786488770695428, -0.005143285538778951, ...  \n",
       "\n",
       "[5 rows x 51 columns]"
      ]
     },
     "execution_count": 35,
     "metadata": {},
     "output_type": "execute_result"
    }
   ],
   "source": [
    "# Create a mapping from each diagnosis code to its corresponding average embedding\n",
    "code_to_embedding = {code: embeddings[diag_code2index[code]] for code in diag_codes}\n",
    "\n",
    "# Add embedding columns for diag_1, diag_2, and diag_3\n",
    "#for col_name in ['diag_1', 'diag_2', 'diag_3']:\n",
    " #   df[f'{col_name}_embedding'] = df[col_name].map(code_to_embedding)\n",
    "    \n",
    "for col_name in ['diag_1', 'diag_2', 'diag_3']:\n",
    "    embeddings = [code_to_embedding.get(code, None) for code in df[col_name]]\n",
    "    df[f'{col_name}_embedding'] = embeddings\n",
    "\n",
    "\n",
    "df.head()"
   ]
  },
  {
   "cell_type": "markdown",
   "id": "23fd8d9925bf84cd",
   "metadata": {},
   "source": [
    "### HbA1c Study Classification"
   ]
  },
  {
   "cell_type": "markdown",
   "id": "5abb78008519dc1a",
   "metadata": {},
   "source": [
    "In the case of the diagnoses (diag_1, diag_2 and diag_3), before encoding them we needed to group the classification in a more friencly way, as the possible values it could originally were 1,000+. For this, we replicated what another research (HbA1c measurement impact in readmissions by Biomed) did.The research provides the codes that belong to concrete groups such as Circulatory, Respiratory, Digestive, etc. By having this reduced groups then we created the category Other that is composed with the categories that individually appeared in less than 3.5% of the observations\n",
    " \n",
    "Source: https://www.hindawi.com/journals/bmri/2014/781670/tab2/>"
   ]
  },
  {
   "cell_type": "code",
   "execution_count": 36,
   "id": "672bf359542fff2a",
   "metadata": {
    "ExecuteTime": {
     "end_time": "2024-02-16T11:57:47.187130Z",
     "start_time": "2024-02-16T11:57:47.093636Z"
    }
   },
   "outputs": [
    {
     "data": {
      "text/plain": [
       "{'390': 'Circulatory',\n",
       " '391': 'Circulatory',\n",
       " '392': 'Circulatory',\n",
       " '393': 'Circulatory',\n",
       " '394': 'Circulatory',\n",
       " '395': 'Circulatory',\n",
       " '396': 'Circulatory',\n",
       " '397': 'Circulatory',\n",
       " '398': 'Circulatory',\n",
       " '399': 'Circulatory',\n",
       " '400': 'Circulatory',\n",
       " '401': 'Circulatory',\n",
       " '402': 'Circulatory',\n",
       " '403': 'Circulatory',\n",
       " '404': 'Circulatory',\n",
       " '405': 'Circulatory',\n",
       " '406': 'Circulatory',\n",
       " '407': 'Circulatory',\n",
       " '408': 'Circulatory',\n",
       " '409': 'Circulatory',\n",
       " '410': 'Circulatory',\n",
       " '411': 'Circulatory',\n",
       " '412': 'Circulatory',\n",
       " '413': 'Circulatory',\n",
       " '414': 'Circulatory',\n",
       " '415': 'Circulatory',\n",
       " '416': 'Circulatory',\n",
       " '417': 'Circulatory',\n",
       " '418': 'Circulatory',\n",
       " '419': 'Circulatory',\n",
       " '420': 'Circulatory',\n",
       " '421': 'Circulatory',\n",
       " '422': 'Circulatory',\n",
       " '423': 'Circulatory',\n",
       " '424': 'Circulatory',\n",
       " '425': 'Circulatory',\n",
       " '426': 'Circulatory',\n",
       " '427': 'Circulatory',\n",
       " '428': 'Circulatory',\n",
       " '429': 'Circulatory',\n",
       " '430': 'Circulatory',\n",
       " '431': 'Circulatory',\n",
       " '432': 'Circulatory',\n",
       " '433': 'Circulatory',\n",
       " '434': 'Circulatory',\n",
       " '435': 'Circulatory',\n",
       " '436': 'Circulatory',\n",
       " '437': 'Circulatory',\n",
       " '438': 'Circulatory',\n",
       " '439': 'Circulatory',\n",
       " '440': 'Circulatory',\n",
       " '441': 'Circulatory',\n",
       " '442': 'Circulatory',\n",
       " '443': 'Circulatory',\n",
       " '444': 'Circulatory',\n",
       " '445': 'Circulatory',\n",
       " '446': 'Circulatory',\n",
       " '447': 'Circulatory',\n",
       " '448': 'Circulatory',\n",
       " '449': 'Circulatory',\n",
       " '450': 'Circulatory',\n",
       " '451': 'Circulatory',\n",
       " '452': 'Circulatory',\n",
       " '453': 'Circulatory',\n",
       " '454': 'Circulatory',\n",
       " '455': 'Circulatory',\n",
       " '456': 'Circulatory',\n",
       " '457': 'Circulatory',\n",
       " '458': 'Circulatory',\n",
       " '459': 'Circulatory',\n",
       " '785': 'Circulatory',\n",
       " '460': 'Respiratory',\n",
       " '461': 'Respiratory',\n",
       " '462': 'Respiratory',\n",
       " '463': 'Respiratory',\n",
       " '464': 'Respiratory',\n",
       " '465': 'Respiratory',\n",
       " '466': 'Respiratory',\n",
       " '467': 'Respiratory',\n",
       " '468': 'Respiratory',\n",
       " '469': 'Respiratory',\n",
       " '470': 'Respiratory',\n",
       " '471': 'Respiratory',\n",
       " '472': 'Respiratory',\n",
       " '473': 'Respiratory',\n",
       " '474': 'Respiratory',\n",
       " '475': 'Respiratory',\n",
       " '476': 'Respiratory',\n",
       " '477': 'Respiratory',\n",
       " '478': 'Respiratory',\n",
       " '479': 'Respiratory',\n",
       " '480': 'Respiratory',\n",
       " '481': 'Respiratory',\n",
       " '482': 'Respiratory',\n",
       " '483': 'Respiratory',\n",
       " '484': 'Respiratory',\n",
       " '485': 'Respiratory',\n",
       " '486': 'Respiratory',\n",
       " '487': 'Respiratory',\n",
       " '488': 'Respiratory',\n",
       " '489': 'Respiratory',\n",
       " '490': 'Respiratory',\n",
       " '491': 'Respiratory',\n",
       " '492': 'Respiratory',\n",
       " '493': 'Respiratory',\n",
       " '494': 'Respiratory',\n",
       " '495': 'Respiratory',\n",
       " '496': 'Respiratory',\n",
       " '497': 'Respiratory',\n",
       " '498': 'Respiratory',\n",
       " '499': 'Respiratory',\n",
       " '500': 'Respiratory',\n",
       " '501': 'Respiratory',\n",
       " '502': 'Respiratory',\n",
       " '503': 'Respiratory',\n",
       " '504': 'Respiratory',\n",
       " '505': 'Respiratory',\n",
       " '506': 'Respiratory',\n",
       " '507': 'Respiratory',\n",
       " '508': 'Respiratory',\n",
       " '509': 'Respiratory',\n",
       " '510': 'Respiratory',\n",
       " '511': 'Respiratory',\n",
       " '512': 'Respiratory',\n",
       " '513': 'Respiratory',\n",
       " '514': 'Respiratory',\n",
       " '515': 'Respiratory',\n",
       " '516': 'Respiratory',\n",
       " '517': 'Respiratory',\n",
       " '518': 'Respiratory',\n",
       " '519': 'Respiratory',\n",
       " '786': 'Respiratory',\n",
       " '520': 'Digestive',\n",
       " '521': 'Digestive',\n",
       " '522': 'Digestive',\n",
       " '523': 'Digestive',\n",
       " '524': 'Digestive',\n",
       " '525': 'Digestive',\n",
       " '526': 'Digestive',\n",
       " '527': 'Digestive',\n",
       " '528': 'Digestive',\n",
       " '529': 'Digestive',\n",
       " '530': 'Digestive',\n",
       " '531': 'Digestive',\n",
       " '532': 'Digestive',\n",
       " '533': 'Digestive',\n",
       " '534': 'Digestive',\n",
       " '535': 'Digestive',\n",
       " '536': 'Digestive',\n",
       " '537': 'Digestive',\n",
       " '538': 'Digestive',\n",
       " '539': 'Digestive',\n",
       " '540': 'Digestive',\n",
       " '541': 'Digestive',\n",
       " '542': 'Digestive',\n",
       " '543': 'Digestive',\n",
       " '544': 'Digestive',\n",
       " '545': 'Digestive',\n",
       " '546': 'Digestive',\n",
       " '547': 'Digestive',\n",
       " '548': 'Digestive',\n",
       " '549': 'Digestive',\n",
       " '550': 'Digestive',\n",
       " '551': 'Digestive',\n",
       " '552': 'Digestive',\n",
       " '553': 'Digestive',\n",
       " '554': 'Digestive',\n",
       " '555': 'Digestive',\n",
       " '556': 'Digestive',\n",
       " '557': 'Digestive',\n",
       " '558': 'Digestive',\n",
       " '559': 'Digestive',\n",
       " '560': 'Digestive',\n",
       " '561': 'Digestive',\n",
       " '562': 'Digestive',\n",
       " '563': 'Digestive',\n",
       " '564': 'Digestive',\n",
       " '565': 'Digestive',\n",
       " '566': 'Digestive',\n",
       " '567': 'Digestive',\n",
       " '568': 'Digestive',\n",
       " '569': 'Digestive',\n",
       " '570': 'Digestive',\n",
       " '571': 'Digestive',\n",
       " '572': 'Digestive',\n",
       " '573': 'Digestive',\n",
       " '574': 'Digestive',\n",
       " '575': 'Digestive',\n",
       " '576': 'Digestive',\n",
       " '577': 'Digestive',\n",
       " '578': 'Digestive',\n",
       " '579': 'Digestive',\n",
       " '787': 'Digestive',\n",
       " '250': 'Diabetes',\n",
       " '800': 'Injury',\n",
       " '801': 'Injury',\n",
       " '802': 'Injury',\n",
       " '803': 'Injury',\n",
       " '804': 'Injury',\n",
       " '805': 'Injury',\n",
       " '806': 'Injury',\n",
       " '807': 'Injury',\n",
       " '808': 'Injury',\n",
       " '809': 'Injury',\n",
       " '810': 'Injury',\n",
       " '811': 'Injury',\n",
       " '812': 'Injury',\n",
       " '813': 'Injury',\n",
       " '814': 'Injury',\n",
       " '815': 'Injury',\n",
       " '816': 'Injury',\n",
       " '817': 'Injury',\n",
       " '818': 'Injury',\n",
       " '819': 'Injury',\n",
       " '820': 'Injury',\n",
       " '821': 'Injury',\n",
       " '822': 'Injury',\n",
       " '823': 'Injury',\n",
       " '824': 'Injury',\n",
       " '825': 'Injury',\n",
       " '826': 'Injury',\n",
       " '827': 'Injury',\n",
       " '828': 'Injury',\n",
       " '829': 'Injury',\n",
       " '830': 'Injury',\n",
       " '831': 'Injury',\n",
       " '832': 'Injury',\n",
       " '833': 'Injury',\n",
       " '834': 'Injury',\n",
       " '835': 'Injury',\n",
       " '836': 'Injury',\n",
       " '837': 'Injury',\n",
       " '838': 'Injury',\n",
       " '839': 'Injury',\n",
       " '840': 'Injury',\n",
       " '841': 'Injury',\n",
       " '842': 'Injury',\n",
       " '843': 'Injury',\n",
       " '844': 'Injury',\n",
       " '845': 'Injury',\n",
       " '846': 'Injury',\n",
       " '847': 'Injury',\n",
       " '848': 'Injury',\n",
       " '849': 'Injury',\n",
       " '850': 'Injury',\n",
       " '851': 'Injury',\n",
       " '852': 'Injury',\n",
       " '853': 'Injury',\n",
       " '854': 'Injury',\n",
       " '855': 'Injury',\n",
       " '856': 'Injury',\n",
       " '857': 'Injury',\n",
       " '858': 'Injury',\n",
       " '859': 'Injury',\n",
       " '860': 'Injury',\n",
       " '861': 'Injury',\n",
       " '862': 'Injury',\n",
       " '863': 'Injury',\n",
       " '864': 'Injury',\n",
       " '865': 'Injury',\n",
       " '866': 'Injury',\n",
       " '867': 'Injury',\n",
       " '868': 'Injury',\n",
       " '869': 'Injury',\n",
       " '870': 'Injury',\n",
       " '871': 'Injury',\n",
       " '872': 'Injury',\n",
       " '873': 'Injury',\n",
       " '874': 'Injury',\n",
       " '875': 'Injury',\n",
       " '876': 'Injury',\n",
       " '877': 'Injury',\n",
       " '878': 'Injury',\n",
       " '879': 'Injury',\n",
       " '880': 'Injury',\n",
       " '881': 'Injury',\n",
       " '882': 'Injury',\n",
       " '883': 'Injury',\n",
       " '884': 'Injury',\n",
       " '885': 'Injury',\n",
       " '886': 'Injury',\n",
       " '887': 'Injury',\n",
       " '888': 'Injury',\n",
       " '889': 'Injury',\n",
       " '890': 'Injury',\n",
       " '891': 'Injury',\n",
       " '892': 'Injury',\n",
       " '893': 'Injury',\n",
       " '894': 'Injury',\n",
       " '895': 'Injury',\n",
       " '896': 'Injury',\n",
       " '897': 'Injury',\n",
       " '898': 'Injury',\n",
       " '899': 'Injury',\n",
       " '900': 'Injury',\n",
       " '901': 'Injury',\n",
       " '902': 'Injury',\n",
       " '903': 'Injury',\n",
       " '904': 'Injury',\n",
       " '905': 'Injury',\n",
       " '906': 'Injury',\n",
       " '907': 'Injury',\n",
       " '908': 'Injury',\n",
       " '909': 'Injury',\n",
       " '910': 'Injury',\n",
       " '911': 'Injury',\n",
       " '912': 'Injury',\n",
       " '913': 'Injury',\n",
       " '914': 'Injury',\n",
       " '915': 'Injury',\n",
       " '916': 'Injury',\n",
       " '917': 'Injury',\n",
       " '918': 'Injury',\n",
       " '919': 'Injury',\n",
       " '920': 'Injury',\n",
       " '921': 'Injury',\n",
       " '922': 'Injury',\n",
       " '923': 'Injury',\n",
       " '924': 'Injury',\n",
       " '925': 'Injury',\n",
       " '926': 'Injury',\n",
       " '927': 'Injury',\n",
       " '928': 'Injury',\n",
       " '929': 'Injury',\n",
       " '930': 'Injury',\n",
       " '931': 'Injury',\n",
       " '932': 'Injury',\n",
       " '933': 'Injury',\n",
       " '934': 'Injury',\n",
       " '935': 'Injury',\n",
       " '936': 'Injury',\n",
       " '937': 'Injury',\n",
       " '938': 'Injury',\n",
       " '939': 'Injury',\n",
       " '940': 'Injury',\n",
       " '941': 'Injury',\n",
       " '942': 'Injury',\n",
       " '943': 'Injury',\n",
       " '944': 'Injury',\n",
       " '945': 'Injury',\n",
       " '946': 'Injury',\n",
       " '947': 'Injury',\n",
       " '948': 'Injury',\n",
       " '949': 'Injury',\n",
       " '950': 'Injury',\n",
       " '951': 'Injury',\n",
       " '952': 'Injury',\n",
       " '953': 'Injury',\n",
       " '954': 'Injury',\n",
       " '955': 'Injury',\n",
       " '956': 'Injury',\n",
       " '957': 'Injury',\n",
       " '958': 'Injury',\n",
       " '959': 'Injury',\n",
       " '960': 'Injury',\n",
       " '961': 'Injury',\n",
       " '962': 'Injury',\n",
       " '963': 'Injury',\n",
       " '964': 'Injury',\n",
       " '965': 'Injury',\n",
       " '966': 'Injury',\n",
       " '967': 'Injury',\n",
       " '968': 'Injury',\n",
       " '969': 'Injury',\n",
       " '970': 'Injury',\n",
       " '971': 'Injury',\n",
       " '972': 'Injury',\n",
       " '973': 'Injury',\n",
       " '974': 'Injury',\n",
       " '975': 'Injury',\n",
       " '976': 'Injury',\n",
       " '977': 'Injury',\n",
       " '978': 'Injury',\n",
       " '979': 'Injury',\n",
       " '980': 'Injury',\n",
       " '981': 'Injury',\n",
       " '982': 'Injury',\n",
       " '983': 'Injury',\n",
       " '984': 'Injury',\n",
       " '985': 'Injury',\n",
       " '986': 'Injury',\n",
       " '987': 'Injury',\n",
       " '988': 'Injury',\n",
       " '989': 'Injury',\n",
       " '990': 'Injury',\n",
       " '991': 'Injury',\n",
       " '992': 'Injury',\n",
       " '993': 'Injury',\n",
       " '994': 'Injury',\n",
       " '995': 'Injury',\n",
       " '996': 'Injury',\n",
       " '997': 'Injury',\n",
       " '998': 'Injury',\n",
       " '999': 'Injury',\n",
       " '710': 'Musculoskeletal',\n",
       " '711': 'Musculoskeletal',\n",
       " '712': 'Musculoskeletal',\n",
       " '713': 'Musculoskeletal',\n",
       " '714': 'Musculoskeletal',\n",
       " '715': 'Musculoskeletal',\n",
       " '716': 'Musculoskeletal',\n",
       " '717': 'Musculoskeletal',\n",
       " '718': 'Musculoskeletal',\n",
       " '719': 'Musculoskeletal',\n",
       " '720': 'Musculoskeletal',\n",
       " '721': 'Musculoskeletal',\n",
       " '722': 'Musculoskeletal',\n",
       " '723': 'Musculoskeletal',\n",
       " '724': 'Musculoskeletal',\n",
       " '725': 'Musculoskeletal',\n",
       " '726': 'Musculoskeletal',\n",
       " '727': 'Musculoskeletal',\n",
       " '728': 'Musculoskeletal',\n",
       " '729': 'Musculoskeletal',\n",
       " '730': 'Musculoskeletal',\n",
       " '731': 'Musculoskeletal',\n",
       " '732': 'Musculoskeletal',\n",
       " '733': 'Musculoskeletal',\n",
       " '734': 'Musculoskeletal',\n",
       " '735': 'Musculoskeletal',\n",
       " '736': 'Musculoskeletal',\n",
       " '737': 'Musculoskeletal',\n",
       " '738': 'Musculoskeletal',\n",
       " '739': 'Musculoskeletal',\n",
       " '580': 'Genitourinary',\n",
       " '581': 'Genitourinary',\n",
       " '582': 'Genitourinary',\n",
       " '583': 'Genitourinary',\n",
       " '584': 'Genitourinary',\n",
       " '585': 'Genitourinary',\n",
       " '586': 'Genitourinary',\n",
       " '587': 'Genitourinary',\n",
       " '588': 'Genitourinary',\n",
       " '589': 'Genitourinary',\n",
       " '590': 'Genitourinary',\n",
       " '591': 'Genitourinary',\n",
       " '592': 'Genitourinary',\n",
       " '593': 'Genitourinary',\n",
       " '594': 'Genitourinary',\n",
       " '595': 'Genitourinary',\n",
       " '596': 'Genitourinary',\n",
       " '597': 'Genitourinary',\n",
       " '598': 'Genitourinary',\n",
       " '599': 'Genitourinary',\n",
       " '600': 'Genitourinary',\n",
       " '601': 'Genitourinary',\n",
       " '602': 'Genitourinary',\n",
       " '603': 'Genitourinary',\n",
       " '604': 'Genitourinary',\n",
       " '605': 'Genitourinary',\n",
       " '606': 'Genitourinary',\n",
       " '607': 'Genitourinary',\n",
       " '608': 'Genitourinary',\n",
       " '609': 'Genitourinary',\n",
       " '610': 'Genitourinary',\n",
       " '611': 'Genitourinary',\n",
       " '612': 'Genitourinary',\n",
       " '613': 'Genitourinary',\n",
       " '614': 'Genitourinary',\n",
       " '615': 'Genitourinary',\n",
       " '616': 'Genitourinary',\n",
       " '617': 'Genitourinary',\n",
       " '618': 'Genitourinary',\n",
       " '619': 'Genitourinary',\n",
       " '620': 'Genitourinary',\n",
       " '621': 'Genitourinary',\n",
       " '622': 'Genitourinary',\n",
       " '623': 'Genitourinary',\n",
       " '624': 'Genitourinary',\n",
       " '625': 'Genitourinary',\n",
       " '626': 'Genitourinary',\n",
       " '627': 'Genitourinary',\n",
       " '628': 'Genitourinary',\n",
       " '629': 'Genitourinary',\n",
       " '788': 'Genitourinary',\n",
       " '140': 'Neoplasms',\n",
       " '141': 'Neoplasms',\n",
       " '142': 'Neoplasms',\n",
       " '143': 'Neoplasms',\n",
       " '144': 'Neoplasms',\n",
       " '145': 'Neoplasms',\n",
       " '146': 'Neoplasms',\n",
       " '147': 'Neoplasms',\n",
       " '148': 'Neoplasms',\n",
       " '149': 'Neoplasms',\n",
       " '150': 'Neoplasms',\n",
       " '151': 'Neoplasms',\n",
       " '152': 'Neoplasms',\n",
       " '153': 'Neoplasms',\n",
       " '154': 'Neoplasms',\n",
       " '155': 'Neoplasms',\n",
       " '156': 'Neoplasms',\n",
       " '157': 'Neoplasms',\n",
       " '158': 'Neoplasms',\n",
       " '159': 'Neoplasms',\n",
       " '160': 'Neoplasms',\n",
       " '161': 'Neoplasms',\n",
       " '162': 'Neoplasms',\n",
       " '163': 'Neoplasms',\n",
       " '164': 'Neoplasms',\n",
       " '165': 'Neoplasms',\n",
       " '166': 'Neoplasms',\n",
       " '167': 'Neoplasms',\n",
       " '168': 'Neoplasms',\n",
       " '169': 'Neoplasms',\n",
       " '170': 'Neoplasms',\n",
       " '171': 'Neoplasms',\n",
       " '172': 'Neoplasms',\n",
       " '173': 'Neoplasms',\n",
       " '174': 'Neoplasms',\n",
       " '175': 'Neoplasms',\n",
       " '176': 'Neoplasms',\n",
       " '177': 'Neoplasms',\n",
       " '178': 'Neoplasms',\n",
       " '179': 'Neoplasms',\n",
       " '180': 'Neoplasms',\n",
       " '181': 'Neoplasms',\n",
       " '182': 'Neoplasms',\n",
       " '183': 'Neoplasms',\n",
       " '184': 'Neoplasms',\n",
       " '185': 'Neoplasms',\n",
       " '186': 'Neoplasms',\n",
       " '187': 'Neoplasms',\n",
       " '188': 'Neoplasms',\n",
       " '189': 'Neoplasms',\n",
       " '190': 'Neoplasms',\n",
       " '191': 'Neoplasms',\n",
       " '192': 'Neoplasms',\n",
       " '193': 'Neoplasms',\n",
       " '194': 'Neoplasms',\n",
       " '195': 'Neoplasms',\n",
       " '196': 'Neoplasms',\n",
       " '197': 'Neoplasms',\n",
       " '198': 'Neoplasms',\n",
       " '199': 'Neoplasms',\n",
       " '200': 'Neoplasms',\n",
       " '201': 'Neoplasms',\n",
       " '202': 'Neoplasms',\n",
       " '203': 'Neoplasms',\n",
       " '204': 'Neoplasms',\n",
       " '205': 'Neoplasms',\n",
       " '206': 'Neoplasms',\n",
       " '207': 'Neoplasms',\n",
       " '208': 'Neoplasms',\n",
       " '209': 'Neoplasms',\n",
       " '210': 'Neoplasms',\n",
       " '211': 'Neoplasms',\n",
       " '212': 'Neoplasms',\n",
       " '213': 'Neoplasms',\n",
       " '214': 'Neoplasms',\n",
       " '215': 'Neoplasms',\n",
       " '216': 'Neoplasms',\n",
       " '217': 'Neoplasms',\n",
       " '218': 'Neoplasms',\n",
       " '219': 'Neoplasms',\n",
       " '220': 'Neoplasms',\n",
       " '221': 'Neoplasms',\n",
       " '222': 'Neoplasms',\n",
       " '223': 'Neoplasms',\n",
       " '224': 'Neoplasms',\n",
       " '225': 'Neoplasms',\n",
       " '226': 'Neoplasms',\n",
       " '227': 'Neoplasms',\n",
       " '228': 'Neoplasms',\n",
       " '229': 'Neoplasms',\n",
       " '230': 'Neoplasms',\n",
       " '231': 'Neoplasms',\n",
       " '232': 'Neoplasms',\n",
       " '233': 'Neoplasms',\n",
       " '234': 'Neoplasms',\n",
       " '235': 'Neoplasms',\n",
       " '236': 'Neoplasms',\n",
       " '237': 'Neoplasms',\n",
       " '238': 'Neoplasms',\n",
       " '239': 'Neoplasms',\n",
       " '780': 'Other symptons',\n",
       " '781': 'Other symptons',\n",
       " '784': 'Other symptons',\n",
       " '790': 'Other symptons',\n",
       " '791': 'Other symptons',\n",
       " '792': 'Other symptons',\n",
       " '793': 'Other symptons',\n",
       " '794': 'Other symptons',\n",
       " '795': 'Other symptons',\n",
       " '796': 'Other symptons',\n",
       " '797': 'Other symptons',\n",
       " '798': 'Other symptons',\n",
       " '799': 'Other symptons',\n",
       " '240': 'Endocrinal/Nutritional/Metabolic',\n",
       " '241': 'Endocrinal/Nutritional/Metabolic',\n",
       " '242': 'Endocrinal/Nutritional/Metabolic',\n",
       " '243': 'Endocrinal/Nutritional/Metabolic',\n",
       " '244': 'Endocrinal/Nutritional/Metabolic',\n",
       " '245': 'Endocrinal/Nutritional/Metabolic',\n",
       " '246': 'Endocrinal/Nutritional/Metabolic',\n",
       " '247': 'Endocrinal/Nutritional/Metabolic',\n",
       " '248': 'Endocrinal/Nutritional/Metabolic',\n",
       " '249': 'Endocrinal/Nutritional/Metabolic',\n",
       " '251': 'Endocrinal/Nutritional/Metabolic',\n",
       " '252': 'Endocrinal/Nutritional/Metabolic',\n",
       " '253': 'Endocrinal/Nutritional/Metabolic',\n",
       " '254': 'Endocrinal/Nutritional/Metabolic',\n",
       " '255': 'Endocrinal/Nutritional/Metabolic',\n",
       " '256': 'Endocrinal/Nutritional/Metabolic',\n",
       " '257': 'Endocrinal/Nutritional/Metabolic',\n",
       " '258': 'Endocrinal/Nutritional/Metabolic',\n",
       " '259': 'Endocrinal/Nutritional/Metabolic',\n",
       " '260': 'Endocrinal/Nutritional/Metabolic',\n",
       " '261': 'Endocrinal/Nutritional/Metabolic',\n",
       " '262': 'Endocrinal/Nutritional/Metabolic',\n",
       " '263': 'Endocrinal/Nutritional/Metabolic',\n",
       " '264': 'Endocrinal/Nutritional/Metabolic',\n",
       " '265': 'Endocrinal/Nutritional/Metabolic',\n",
       " '266': 'Endocrinal/Nutritional/Metabolic',\n",
       " '267': 'Endocrinal/Nutritional/Metabolic',\n",
       " '268': 'Endocrinal/Nutritional/Metabolic',\n",
       " '269': 'Endocrinal/Nutritional/Metabolic',\n",
       " '270': 'Endocrinal/Nutritional/Metabolic',\n",
       " '271': 'Endocrinal/Nutritional/Metabolic',\n",
       " '272': 'Endocrinal/Nutritional/Metabolic',\n",
       " '273': 'Endocrinal/Nutritional/Metabolic',\n",
       " '274': 'Endocrinal/Nutritional/Metabolic',\n",
       " '275': 'Endocrinal/Nutritional/Metabolic',\n",
       " '276': 'Endocrinal/Nutritional/Metabolic',\n",
       " '277': 'Endocrinal/Nutritional/Metabolic',\n",
       " '278': 'Endocrinal/Nutritional/Metabolic',\n",
       " '279': 'Endocrinal/Nutritional/Metabolic',\n",
       " '680': 'Skin',\n",
       " '681': 'Skin',\n",
       " '682': 'Skin',\n",
       " '683': 'Skin',\n",
       " '684': 'Skin',\n",
       " '685': 'Skin',\n",
       " '686': 'Skin',\n",
       " '687': 'Skin',\n",
       " '688': 'Skin',\n",
       " '689': 'Skin',\n",
       " '690': 'Skin',\n",
       " '691': 'Skin',\n",
       " '692': 'Skin',\n",
       " '693': 'Skin',\n",
       " '694': 'Skin',\n",
       " '695': 'Skin',\n",
       " '696': 'Skin',\n",
       " '697': 'Skin',\n",
       " '698': 'Skin',\n",
       " '699': 'Skin',\n",
       " '700': 'Skin',\n",
       " '701': 'Skin',\n",
       " '702': 'Skin',\n",
       " '703': 'Skin',\n",
       " '704': 'Skin',\n",
       " '705': 'Skin',\n",
       " '706': 'Skin',\n",
       " '707': 'Skin',\n",
       " '708': 'Skin',\n",
       " '709': 'Skin',\n",
       " '782': 'Skin',\n",
       " '001': 'Infectious and Parasites',\n",
       " '002': 'Infectious and Parasites',\n",
       " '003': 'Infectious and Parasites',\n",
       " '004': 'Infectious and Parasites',\n",
       " '005': 'Infectious and Parasites',\n",
       " '006': 'Infectious and Parasites',\n",
       " '007': 'Infectious and Parasites',\n",
       " '008': 'Infectious and Parasites',\n",
       " '009': 'Infectious and Parasites',\n",
       " '010': 'Infectious and Parasites',\n",
       " '011': 'Infectious and Parasites',\n",
       " '012': 'Infectious and Parasites',\n",
       " '013': 'Infectious and Parasites',\n",
       " '014': 'Infectious and Parasites',\n",
       " '015': 'Infectious and Parasites',\n",
       " '016': 'Infectious and Parasites',\n",
       " '017': 'Infectious and Parasites',\n",
       " '018': 'Infectious and Parasites',\n",
       " '019': 'Infectious and Parasites',\n",
       " '020': 'Infectious and Parasites',\n",
       " '021': 'Infectious and Parasites',\n",
       " '022': 'Infectious and Parasites',\n",
       " '023': 'Infectious and Parasites',\n",
       " '024': 'Infectious and Parasites',\n",
       " '025': 'Infectious and Parasites',\n",
       " '026': 'Infectious and Parasites',\n",
       " '027': 'Infectious and Parasites',\n",
       " '028': 'Infectious and Parasites',\n",
       " '029': 'Infectious and Parasites',\n",
       " '030': 'Infectious and Parasites',\n",
       " '031': 'Infectious and Parasites',\n",
       " '032': 'Infectious and Parasites',\n",
       " '033': 'Infectious and Parasites',\n",
       " '034': 'Infectious and Parasites',\n",
       " '035': 'Infectious and Parasites',\n",
       " '036': 'Infectious and Parasites',\n",
       " '037': 'Infectious and Parasites',\n",
       " '038': 'Infectious and Parasites',\n",
       " '039': 'Infectious and Parasites',\n",
       " '040': 'Infectious and Parasites',\n",
       " '041': 'Infectious and Parasites',\n",
       " '042': 'Infectious and Parasites',\n",
       " '043': 'Infectious and Parasites',\n",
       " '044': 'Infectious and Parasites',\n",
       " '045': 'Infectious and Parasites',\n",
       " '046': 'Infectious and Parasites',\n",
       " '047': 'Infectious and Parasites',\n",
       " '048': 'Infectious and Parasites',\n",
       " '049': 'Infectious and Parasites',\n",
       " '050': 'Infectious and Parasites',\n",
       " '051': 'Infectious and Parasites',\n",
       " '052': 'Infectious and Parasites',\n",
       " '053': 'Infectious and Parasites',\n",
       " '054': 'Infectious and Parasites',\n",
       " '055': 'Infectious and Parasites',\n",
       " '056': 'Infectious and Parasites',\n",
       " '057': 'Infectious and Parasites',\n",
       " '058': 'Infectious and Parasites',\n",
       " '059': 'Infectious and Parasites',\n",
       " '060': 'Infectious and Parasites',\n",
       " '061': 'Infectious and Parasites',\n",
       " '062': 'Infectious and Parasites',\n",
       " '063': 'Infectious and Parasites',\n",
       " '064': 'Infectious and Parasites',\n",
       " '065': 'Infectious and Parasites',\n",
       " '066': 'Infectious and Parasites',\n",
       " '067': 'Infectious and Parasites',\n",
       " '068': 'Infectious and Parasites',\n",
       " '069': 'Infectious and Parasites',\n",
       " '070': 'Infectious and Parasites',\n",
       " '071': 'Infectious and Parasites',\n",
       " '072': 'Infectious and Parasites',\n",
       " '073': 'Infectious and Parasites',\n",
       " '074': 'Infectious and Parasites',\n",
       " '075': 'Infectious and Parasites',\n",
       " '076': 'Infectious and Parasites',\n",
       " '077': 'Infectious and Parasites',\n",
       " '078': 'Infectious and Parasites',\n",
       " '079': 'Infectious and Parasites',\n",
       " '080': 'Infectious and Parasites',\n",
       " '081': 'Infectious and Parasites',\n",
       " '082': 'Infectious and Parasites',\n",
       " '083': 'Infectious and Parasites',\n",
       " '084': 'Infectious and Parasites',\n",
       " '085': 'Infectious and Parasites',\n",
       " '086': 'Infectious and Parasites',\n",
       " '087': 'Infectious and Parasites',\n",
       " '088': 'Infectious and Parasites',\n",
       " '089': 'Infectious and Parasites',\n",
       " '090': 'Infectious and Parasites',\n",
       " '091': 'Infectious and Parasites',\n",
       " '092': 'Infectious and Parasites',\n",
       " '093': 'Infectious and Parasites',\n",
       " '094': 'Infectious and Parasites',\n",
       " '095': 'Infectious and Parasites',\n",
       " '096': 'Infectious and Parasites',\n",
       " '097': 'Infectious and Parasites',\n",
       " '098': 'Infectious and Parasites',\n",
       " '099': 'Infectious and Parasites',\n",
       " '100': 'Infectious and Parasites',\n",
       " '101': 'Infectious and Parasites',\n",
       " '102': 'Infectious and Parasites',\n",
       " '103': 'Infectious and Parasites',\n",
       " '104': 'Infectious and Parasites',\n",
       " '105': 'Infectious and Parasites',\n",
       " '106': 'Infectious and Parasites',\n",
       " '107': 'Infectious and Parasites',\n",
       " '108': 'Infectious and Parasites',\n",
       " '109': 'Infectious and Parasites',\n",
       " '110': 'Infectious and Parasites',\n",
       " '111': 'Infectious and Parasites',\n",
       " '112': 'Infectious and Parasites',\n",
       " '113': 'Infectious and Parasites',\n",
       " '114': 'Infectious and Parasites',\n",
       " '115': 'Infectious and Parasites',\n",
       " '116': 'Infectious and Parasites',\n",
       " '117': 'Infectious and Parasites',\n",
       " '118': 'Infectious and Parasites',\n",
       " '119': 'Infectious and Parasites',\n",
       " '120': 'Infectious and Parasites',\n",
       " '121': 'Infectious and Parasites',\n",
       " '122': 'Infectious and Parasites',\n",
       " '123': 'Infectious and Parasites',\n",
       " '124': 'Infectious and Parasites',\n",
       " '125': 'Infectious and Parasites',\n",
       " '126': 'Infectious and Parasites',\n",
       " '127': 'Infectious and Parasites',\n",
       " '128': 'Infectious and Parasites',\n",
       " '129': 'Infectious and Parasites',\n",
       " '130': 'Infectious and Parasites',\n",
       " '131': 'Infectious and Parasites',\n",
       " '132': 'Infectious and Parasites',\n",
       " '133': 'Infectious and Parasites',\n",
       " '134': 'Infectious and Parasites',\n",
       " '135': 'Infectious and Parasites',\n",
       " '136': 'Infectious and Parasites',\n",
       " '137': 'Infectious and Parasites',\n",
       " '138': 'Infectious and Parasites',\n",
       " '139': 'Infectious and Parasites',\n",
       " '290': 'Mental disorders',\n",
       " '291': 'Mental disorders',\n",
       " '292': 'Mental disorders',\n",
       " '293': 'Mental disorders',\n",
       " '294': 'Mental disorders',\n",
       " '295': 'Mental disorders',\n",
       " '296': 'Mental disorders',\n",
       " '297': 'Mental disorders',\n",
       " '298': 'Mental disorders',\n",
       " '299': 'Mental disorders',\n",
       " '300': 'Mental disorders',\n",
       " '301': 'Mental disorders',\n",
       " '302': 'Mental disorders',\n",
       " '303': 'Mental disorders',\n",
       " '304': 'Mental disorders',\n",
       " '305': 'Mental disorders',\n",
       " '306': 'Mental disorders',\n",
       " '307': 'Mental disorders',\n",
       " '308': 'Mental disorders',\n",
       " '309': 'Mental disorders',\n",
       " '310': 'Mental disorders',\n",
       " '311': 'Mental disorders',\n",
       " '312': 'Mental disorders',\n",
       " '313': 'Mental disorders',\n",
       " '314': 'Mental disorders',\n",
       " '315': 'Mental disorders',\n",
       " '316': 'Mental disorders',\n",
       " '317': 'Mental disorders',\n",
       " '318': 'Mental disorders',\n",
       " '319': 'Mental disorders',\n",
       " '280': 'Blood',\n",
       " '281': 'Blood',\n",
       " '282': 'Blood',\n",
       " '283': 'Blood',\n",
       " '284': 'Blood',\n",
       " '285': 'Blood',\n",
       " '286': 'Blood',\n",
       " '287': 'Blood',\n",
       " '288': 'Blood',\n",
       " '289': 'Blood',\n",
       " '320': 'Nervous system',\n",
       " '321': 'Nervous system',\n",
       " '322': 'Nervous system',\n",
       " '323': 'Nervous system',\n",
       " '324': 'Nervous system',\n",
       " '325': 'Nervous system',\n",
       " '326': 'Nervous system',\n",
       " '327': 'Nervous system',\n",
       " '328': 'Nervous system',\n",
       " '329': 'Nervous system',\n",
       " '330': 'Nervous system',\n",
       " '331': 'Nervous system',\n",
       " '332': 'Nervous system',\n",
       " '333': 'Nervous system',\n",
       " '334': 'Nervous system',\n",
       " '335': 'Nervous system',\n",
       " '336': 'Nervous system',\n",
       " '337': 'Nervous system',\n",
       " '338': 'Nervous system',\n",
       " '339': 'Nervous system',\n",
       " '340': 'Nervous system',\n",
       " '341': 'Nervous system',\n",
       " '342': 'Nervous system',\n",
       " '343': 'Nervous system',\n",
       " '344': 'Nervous system',\n",
       " '345': 'Nervous system',\n",
       " '346': 'Nervous system',\n",
       " '347': 'Nervous system',\n",
       " '348': 'Nervous system',\n",
       " '349': 'Nervous system',\n",
       " '350': 'Nervous system',\n",
       " '351': 'Nervous system',\n",
       " '352': 'Nervous system',\n",
       " '353': 'Nervous system',\n",
       " '354': 'Nervous system',\n",
       " '355': 'Nervous system',\n",
       " '356': 'Nervous system',\n",
       " '357': 'Nervous system',\n",
       " '358': 'Nervous system',\n",
       " '359': 'Nervous system',\n",
       " '630': 'Pregancy issues',\n",
       " '631': 'Pregancy issues',\n",
       " '632': 'Pregancy issues',\n",
       " '633': 'Pregancy issues',\n",
       " '634': 'Pregancy issues',\n",
       " '635': 'Pregancy issues',\n",
       " '636': 'Pregancy issues',\n",
       " '637': 'Pregancy issues',\n",
       " '638': 'Pregancy issues',\n",
       " '639': 'Pregancy issues',\n",
       " '640': 'Pregancy issues',\n",
       " '641': 'Pregancy issues',\n",
       " '642': 'Pregancy issues',\n",
       " '643': 'Pregancy issues',\n",
       " '644': 'Pregancy issues',\n",
       " '645': 'Pregancy issues',\n",
       " '646': 'Pregancy issues',\n",
       " '647': 'Pregancy issues',\n",
       " '648': 'Pregancy issues',\n",
       " '649': 'Pregancy issues',\n",
       " '650': 'Pregancy issues',\n",
       " '651': 'Pregancy issues',\n",
       " '652': 'Pregancy issues',\n",
       " '653': 'Pregancy issues',\n",
       " '654': 'Pregancy issues',\n",
       " '655': 'Pregancy issues',\n",
       " '656': 'Pregancy issues',\n",
       " '657': 'Pregancy issues',\n",
       " '658': 'Pregancy issues',\n",
       " '659': 'Pregancy issues',\n",
       " '660': 'Pregancy issues',\n",
       " '661': 'Pregancy issues',\n",
       " '662': 'Pregancy issues',\n",
       " '663': 'Pregancy issues',\n",
       " '664': 'Pregancy issues',\n",
       " '665': 'Pregancy issues',\n",
       " '666': 'Pregancy issues',\n",
       " '667': 'Pregancy issues',\n",
       " '668': 'Pregancy issues',\n",
       " '669': 'Pregancy issues',\n",
       " '670': 'Pregancy issues',\n",
       " '671': 'Pregancy issues',\n",
       " '672': 'Pregancy issues',\n",
       " '673': 'Pregancy issues',\n",
       " '674': 'Pregancy issues',\n",
       " '675': 'Pregancy issues',\n",
       " '676': 'Pregancy issues',\n",
       " '677': 'Pregancy issues',\n",
       " '678': 'Pregancy issues',\n",
       " '679': 'Pregancy issues',\n",
       " '360': 'Sense organs',\n",
       " '361': 'Sense organs',\n",
       " '362': 'Sense organs',\n",
       " '363': 'Sense organs',\n",
       " '364': 'Sense organs',\n",
       " '365': 'Sense organs',\n",
       " '366': 'Sense organs',\n",
       " '367': 'Sense organs',\n",
       " '368': 'Sense organs',\n",
       " '369': 'Sense organs',\n",
       " '370': 'Sense organs',\n",
       " '371': 'Sense organs',\n",
       " '372': 'Sense organs',\n",
       " '373': 'Sense organs',\n",
       " '374': 'Sense organs',\n",
       " '375': 'Sense organs',\n",
       " '376': 'Sense organs',\n",
       " '377': 'Sense organs',\n",
       " '378': 'Sense organs',\n",
       " '379': 'Sense organs',\n",
       " '380': 'Sense organs',\n",
       " '381': 'Sense organs',\n",
       " '382': 'Sense organs',\n",
       " '383': 'Sense organs',\n",
       " '384': 'Sense organs',\n",
       " '385': 'Sense organs',\n",
       " '386': 'Sense organs',\n",
       " '387': 'Sense organs',\n",
       " '388': 'Sense organs',\n",
       " '389': 'Sense organs',\n",
       " '740': 'Congenital',\n",
       " '741': 'Congenital',\n",
       " '742': 'Congenital',\n",
       " '743': 'Congenital',\n",
       " '744': 'Congenital',\n",
       " '745': 'Congenital',\n",
       " '746': 'Congenital',\n",
       " '747': 'Congenital',\n",
       " '748': 'Congenital',\n",
       " '749': 'Congenital',\n",
       " '750': 'Congenital',\n",
       " '751': 'Congenital',\n",
       " '752': 'Congenital',\n",
       " '753': 'Congenital',\n",
       " '754': 'Congenital',\n",
       " '755': 'Congenital',\n",
       " '756': 'Congenital',\n",
       " '757': 'Congenital',\n",
       " '758': 'Congenital',\n",
       " '759': 'Congenital',\n",
       " 'Mis': 'Missing'}"
      ]
     },
     "execution_count": 36,
     "metadata": {},
     "output_type": "execute_result"
    }
   ],
   "source": [
    "groups_dict = {'Circulatory':'390-459, 785',\n",
    "               'Respiratory':'460-519, 786',\n",
    "               'Digestive':'520-579, 787',\n",
    "               'Diabetes':'250',\n",
    "               'Injury':'800-999',\n",
    "               'Musculoskeletal':'710-739',\n",
    "               'Genitourinary':'580-629, 788',\n",
    "               'Neoplasms':'140-239',\n",
    "               'Other symptons':'780, 781, 784, 790-799',\n",
    "               'Endocrinal/Nutritional/Metabolic':'240-249, 251-279',\n",
    "               'Skin':'680-709, 782',\n",
    "               'Infectious and Parasites':'001-139',\n",
    "               'Mental disorders':'290-319',\n",
    "               'Blood':'280-289',\n",
    "               'Nervous system':'320-359',\n",
    "               'Pregancy issues':'630-679',\n",
    "               'Sense organs':'360-389',\n",
    "               'Congenital':'740-759',\n",
    "               'Missing':'Mis'\n",
    "               }\n",
    "\n",
    "complete_codes = dict()\n",
    "for key, value in groups_dict.items():\n",
    "    codes = value.split(', ')\n",
    "    for code in codes:\n",
    "        if '-' in code:\n",
    "            init = int(code.split('-')[0])\n",
    "            end = int(code.split('-')[1])\n",
    "            for i in range(init, end + 1):\n",
    "                if len(str(i)) == 1:\n",
    "                    complete_codes['00'+ str(i)] = key\n",
    "                elif len(str(i)) == 2:\n",
    "                    complete_codes['0'+ str(i)] = key\n",
    "                else:\n",
    "                    complete_codes[str(i)] = key      \n",
    "        else:\n",
    "            complete_codes[code] = key\n",
    "\n",
    "complete_codes\n",
    "    "
   ]
  },
  {
   "cell_type": "code",
   "execution_count": 37,
   "id": "da2b634ca3c2c0cd",
   "metadata": {
    "ExecuteTime": {
     "end_time": "2024-02-16T11:58:37.688617Z",
     "start_time": "2024-02-16T11:57:47.125798Z"
    }
   },
   "outputs": [],
   "source": [
    "df[['diag_1',\n",
    "    'diag_2',\n",
    "    'diag_3']] = df[['diag_1',\n",
    "                     'diag_2',\n",
    "                     'diag_3']].apply(lambda x: x.str[0:3].map(complete_codes), axis=1)\n",
    "\n",
    "df.fillna({'diag_1':'External causes',\n",
    "           'diag_2':'External causes',\n",
    "           'diag_3':'External causes'}, inplace = True)"
   ]
  },
  {
   "cell_type": "code",
   "execution_count": 38,
   "id": "a97194796a1f8e06",
   "metadata": {
    "ExecuteTime": {
     "end_time": "2024-02-16T11:58:37.718371Z",
     "start_time": "2024-02-16T11:58:37.672783Z"
    }
   },
   "outputs": [],
   "source": [
    "for i in ['diag_1', 'diag_2', 'diag_3']:\n",
    "    counts = pd.DataFrame(df[i].value_counts(normalize=True)).reset_index()\n",
    "    counts = counts.loc[(counts['proportion'] < 0.035), :]\n",
    "    df[i] = np.where(df[i].isin(counts[i]), 'Other', df[i])"
   ]
  },
  {
   "cell_type": "markdown",
   "id": "c4d7602b50c4ecea",
   "metadata": {},
   "source": [
    "For the encoding of the remaining features we opted for impact encoding except for those that were already encoded (such as admission_type_id, discharge_disposition_id and admission_source_id)"
   ]
  },
  {
   "cell_type": "code",
   "execution_count": 39,
   "id": "3ca321e74e1350cb",
   "metadata": {
    "ExecuteTime": {
     "end_time": "2024-02-16T11:58:37.739583Z",
     "start_time": "2024-02-16T11:58:37.704895Z"
    }
   },
   "outputs": [
    {
     "data": {
      "text/plain": [
       "Index(['time_in_hospital', 'num_lab_procedures', 'num_procedures',\n",
       "       'num_medications', 'number_diagnoses'],\n",
       "      dtype='object')"
      ]
     },
     "execution_count": 39,
     "metadata": {},
     "output_type": "execute_result"
    }
   ],
   "source": [
    "df.drop(['encounter_id', 'patient_nbr'], axis = 1, inplace=True)\n",
    "num_columns = df.select_dtypes(include=['float64', 'float32']).columns\n",
    "num_columns"
   ]
  },
  {
   "cell_type": "code",
   "execution_count": 66,
   "id": "d526e3b42338c304",
   "metadata": {
    "ExecuteTime": {
     "end_time": "2024-02-16T11:58:37.796788Z",
     "start_time": "2024-02-16T11:58:37.706641Z"
    }
   },
   "outputs": [
    {
     "data": {
      "text/plain": [
       "Index(['race', 'age', 'medical_specialty', 'diag_1', 'diag_2', 'diag_3',\n",
       "       'max_glu_serum', 'A1Cresult', 'metformin', 'repaglinide', 'nateglinide',\n",
       "       'chlorpropamide', 'glimepiride', 'acetohexamide', 'glipizide',\n",
       "       'glyburide', 'tolbutamide', 'pioglitazone', 'rosiglitazone', 'acarbose',\n",
       "       'miglitol', 'troglitazone', 'tolazamide', 'examide', 'citoglipton',\n",
       "       'insulin', 'glyburide-metformin', 'glipizide-metformin',\n",
       "       'glimepiride-pioglitazone', 'metformin-rosiglitazone',\n",
       "       'metformin-pioglitazone'],\n",
       "      dtype='object')"
      ]
     },
     "execution_count": 66,
     "metadata": {},
     "output_type": "execute_result"
    }
   ],
   "source": [
    "cat_columns = df.drop(num_columns,axis=1).columns\n",
    "impact_encode_columns = df[cat_columns].drop(['admission_type_id',\n",
    "                                              'discharge_disposition_id',\n",
    "                                              'admission_source_id',\n",
    "                                              'change',\n",
    "                                              'diabetesMed',\n",
    "                                              'readmitted',\n",
    "                                              'gender',\n",
    "                                              'diag_1_embedding', \n",
    "                                              'diag_2_embedding',\n",
    "                                              'diag_3_embedding',\n",
    "                                             'number_outpatient',\n",
    "                                             'number_emergency', \n",
    "                                             'number_inpatient'], axis = 1).columns\n",
    "impact_encode_columns"
   ]
  },
  {
   "cell_type": "markdown",
   "id": "4378c61021098223",
   "metadata": {},
   "source": [
    "Impact encoding must be done with the averages computed from training set, this is way we split the dataset in this step"
   ]
  },
  {
   "cell_type": "code",
   "execution_count": 67,
   "id": "5110bd7f35b3012f",
   "metadata": {
    "ExecuteTime": {
     "end_time": "2024-02-16T11:58:38.717246Z",
     "start_time": "2024-02-16T11:58:37.733015Z"
    }
   },
   "outputs": [
    {
     "name": "stdout",
     "output_type": "stream",
     "text": [
      "Train observations = 83767\n",
      "Test observations = 9308\n"
     ]
    }
   ],
   "source": [
    "from sklearn.model_selection import train_test_split\n",
    "train, test = train_test_split(df, train_size = 0.9, random_state=7)\n",
    "print(f'Train observations = {train.shape[0]}')\n",
    "print(f'Test observations = {test.shape[0]}')"
   ]
  },
  {
   "cell_type": "code",
   "execution_count": 68,
   "id": "3062f1932645cea9",
   "metadata": {
    "ExecuteTime": {
     "end_time": "2024-02-16T11:58:38.837592Z",
     "start_time": "2024-02-16T11:58:37.755777Z"
    }
   },
   "outputs": [
    {
     "name": "stderr",
     "output_type": "stream",
     "text": [
      "/var/folders/20/5mf5b61153b9n57c1ltynzf00000gn/T/ipykernel_2822/2276692951.py:2: FutureWarning: The default of observed=False is deprecated and will be changed to True in a future version of pandas. Pass observed=False to retain current behavior or observed=True to adopt the future default and silence this warning.\n",
      "  group_df = train.groupby([i])['readmitted'].mean()\n"
     ]
    },
    {
     "data": {
      "text/html": [
       "<div>\n",
       "<style scoped>\n",
       "    .dataframe tbody tr th:only-of-type {\n",
       "        vertical-align: middle;\n",
       "    }\n",
       "\n",
       "    .dataframe tbody tr th {\n",
       "        vertical-align: top;\n",
       "    }\n",
       "\n",
       "    .dataframe thead th {\n",
       "        text-align: right;\n",
       "    }\n",
       "</style>\n",
       "<table border=\"1\" class=\"dataframe\">\n",
       "  <thead>\n",
       "    <tr style=\"text-align: right;\">\n",
       "      <th></th>\n",
       "      <th>race</th>\n",
       "      <th>gender</th>\n",
       "      <th>age</th>\n",
       "      <th>admission_type_id</th>\n",
       "      <th>discharge_disposition_id</th>\n",
       "      <th>admission_source_id</th>\n",
       "      <th>time_in_hospital</th>\n",
       "      <th>medical_specialty</th>\n",
       "      <th>num_lab_procedures</th>\n",
       "      <th>num_procedures</th>\n",
       "      <th>...</th>\n",
       "      <th>glipizide-metformin</th>\n",
       "      <th>glimepiride-pioglitazone</th>\n",
       "      <th>metformin-rosiglitazone</th>\n",
       "      <th>metformin-pioglitazone</th>\n",
       "      <th>change</th>\n",
       "      <th>diabetesMed</th>\n",
       "      <th>readmitted</th>\n",
       "      <th>diag_1_embedding</th>\n",
       "      <th>diag_2_embedding</th>\n",
       "      <th>diag_3_embedding</th>\n",
       "    </tr>\n",
       "  </thead>\n",
       "  <tbody>\n",
       "    <tr>\n",
       "      <th>0</th>\n",
       "      <td>0.833347</td>\n",
       "      <td>1</td>\n",
       "      <td>0.733205</td>\n",
       "      <td>1</td>\n",
       "      <td>1</td>\n",
       "      <td>7</td>\n",
       "      <td>3.0</td>\n",
       "      <td>0.854328</td>\n",
       "      <td>59.0</td>\n",
       "      <td>0.0</td>\n",
       "      <td>...</td>\n",
       "      <td>0.816988</td>\n",
       "      <td>0.817026</td>\n",
       "      <td>0.81705</td>\n",
       "      <td>0.81705</td>\n",
       "      <td>1</td>\n",
       "      <td>1</td>\n",
       "      <td>2</td>\n",
       "      <td>[-0.12468104011913476, -0.07044120056302562, 0...</td>\n",
       "      <td>[0.04238530468413746, -0.06101438401508885, -0...</td>\n",
       "      <td>[-0.03613437220184295, -0.03002241686601813, 0...</td>\n",
       "    </tr>\n",
       "    <tr>\n",
       "      <th>1</th>\n",
       "      <td>0.805845</td>\n",
       "      <td>1</td>\n",
       "      <td>0.770907</td>\n",
       "      <td>1</td>\n",
       "      <td>1</td>\n",
       "      <td>7</td>\n",
       "      <td>2.0</td>\n",
       "      <td>0.854328</td>\n",
       "      <td>11.0</td>\n",
       "      <td>5.0</td>\n",
       "      <td>...</td>\n",
       "      <td>0.816988</td>\n",
       "      <td>0.817026</td>\n",
       "      <td>0.81705</td>\n",
       "      <td>0.81705</td>\n",
       "      <td>0</td>\n",
       "      <td>1</td>\n",
       "      <td>0</td>\n",
       "      <td>[0.3771673064335978, -0.14788671834026543, 0.0...</td>\n",
       "      <td>[0.08710005926531675, 0.2646715448078219, 0.04...</td>\n",
       "      <td>[0.3192271070604589, -0.10997458476983393, 0.0...</td>\n",
       "    </tr>\n",
       "    <tr>\n",
       "      <th>2</th>\n",
       "      <td>0.833347</td>\n",
       "      <td>0</td>\n",
       "      <td>0.734574</td>\n",
       "      <td>1</td>\n",
       "      <td>1</td>\n",
       "      <td>7</td>\n",
       "      <td>2.0</td>\n",
       "      <td>0.854328</td>\n",
       "      <td>44.0</td>\n",
       "      <td>1.0</td>\n",
       "      <td>...</td>\n",
       "      <td>0.816988</td>\n",
       "      <td>0.817026</td>\n",
       "      <td>0.81705</td>\n",
       "      <td>0.81705</td>\n",
       "      <td>1</td>\n",
       "      <td>1</td>\n",
       "      <td>0</td>\n",
       "      <td>[-0.054890177257126256, -0.033600771175446506,...</td>\n",
       "      <td>[-0.03652402719810844, -0.04439795625753285, 0...</td>\n",
       "      <td>[-0.047199670087618766, -0.039594875425685294,...</td>\n",
       "    </tr>\n",
       "    <tr>\n",
       "      <th>3</th>\n",
       "      <td>0.833347</td>\n",
       "      <td>0</td>\n",
       "      <td>0.782484</td>\n",
       "      <td>1</td>\n",
       "      <td>1</td>\n",
       "      <td>7</td>\n",
       "      <td>1.0</td>\n",
       "      <td>0.854328</td>\n",
       "      <td>51.0</td>\n",
       "      <td>0.0</td>\n",
       "      <td>...</td>\n",
       "      <td>0.816988</td>\n",
       "      <td>0.817026</td>\n",
       "      <td>0.81705</td>\n",
       "      <td>0.81705</td>\n",
       "      <td>1</td>\n",
       "      <td>1</td>\n",
       "      <td>0</td>\n",
       "      <td>[-0.02308293414026362, -0.024831848895273942, ...</td>\n",
       "      <td>[-0.021215107027415983, -0.014918246108810847,...</td>\n",
       "      <td>[0.08710005926531675, 0.2646715448078219, 0.04...</td>\n",
       "    </tr>\n",
       "    <tr>\n",
       "      <th>4</th>\n",
       "      <td>0.833347</td>\n",
       "      <td>0</td>\n",
       "      <td>0.826173</td>\n",
       "      <td>3</td>\n",
       "      <td>1</td>\n",
       "      <td>2</td>\n",
       "      <td>4.0</td>\n",
       "      <td>0.854328</td>\n",
       "      <td>70.0</td>\n",
       "      <td>1.0</td>\n",
       "      <td>...</td>\n",
       "      <td>0.816988</td>\n",
       "      <td>0.817026</td>\n",
       "      <td>0.81705</td>\n",
       "      <td>0.81705</td>\n",
       "      <td>1</td>\n",
       "      <td>1</td>\n",
       "      <td>0</td>\n",
       "      <td>[-0.011777249192346488, 0.030405935517673566, ...</td>\n",
       "      <td>[-0.012629815495965107, 0.014157132068509052, ...</td>\n",
       "      <td>[-0.01786488770695428, -0.005143285538778951, ...</td>\n",
       "    </tr>\n",
       "  </tbody>\n",
       "</table>\n",
       "<p>5 rows × 49 columns</p>\n",
       "</div>"
      ],
      "text/plain": [
       "       race gender       age admission_type_id discharge_disposition_id  \\\n",
       "0  0.833347      1  0.733205                 1                        1   \n",
       "1  0.805845      1  0.770907                 1                        1   \n",
       "2  0.833347      0  0.734574                 1                        1   \n",
       "3  0.833347      0  0.782484                 1                        1   \n",
       "4  0.833347      0  0.826173                 3                        1   \n",
       "\n",
       "  admission_source_id  time_in_hospital  medical_specialty  \\\n",
       "0                   7               3.0           0.854328   \n",
       "1                   7               2.0           0.854328   \n",
       "2                   7               2.0           0.854328   \n",
       "3                   7               1.0           0.854328   \n",
       "4                   2               4.0           0.854328   \n",
       "\n",
       "   num_lab_procedures  num_procedures  ...  glipizide-metformin  \\\n",
       "0                59.0             0.0  ...             0.816988   \n",
       "1                11.0             5.0  ...             0.816988   \n",
       "2                44.0             1.0  ...             0.816988   \n",
       "3                51.0             0.0  ...             0.816988   \n",
       "4                70.0             1.0  ...             0.816988   \n",
       "\n",
       "   glimepiride-pioglitazone  metformin-rosiglitazone  metformin-pioglitazone  \\\n",
       "0                  0.817026                  0.81705                 0.81705   \n",
       "1                  0.817026                  0.81705                 0.81705   \n",
       "2                  0.817026                  0.81705                 0.81705   \n",
       "3                  0.817026                  0.81705                 0.81705   \n",
       "4                  0.817026                  0.81705                 0.81705   \n",
       "\n",
       "   change  diabetesMed  readmitted  \\\n",
       "0       1            1           2   \n",
       "1       0            1           0   \n",
       "2       1            1           0   \n",
       "3       1            1           0   \n",
       "4       1            1           0   \n",
       "\n",
       "                                    diag_1_embedding  \\\n",
       "0  [-0.12468104011913476, -0.07044120056302562, 0...   \n",
       "1  [0.3771673064335978, -0.14788671834026543, 0.0...   \n",
       "2  [-0.054890177257126256, -0.033600771175446506,...   \n",
       "3  [-0.02308293414026362, -0.024831848895273942, ...   \n",
       "4  [-0.011777249192346488, 0.030405935517673566, ...   \n",
       "\n",
       "                                    diag_2_embedding  \\\n",
       "0  [0.04238530468413746, -0.06101438401508885, -0...   \n",
       "1  [0.08710005926531675, 0.2646715448078219, 0.04...   \n",
       "2  [-0.03652402719810844, -0.04439795625753285, 0...   \n",
       "3  [-0.021215107027415983, -0.014918246108810847,...   \n",
       "4  [-0.012629815495965107, 0.014157132068509052, ...   \n",
       "\n",
       "                                    diag_3_embedding  \n",
       "0  [-0.03613437220184295, -0.03002241686601813, 0...  \n",
       "1  [0.3192271070604589, -0.10997458476983393, 0.0...  \n",
       "2  [-0.047199670087618766, -0.039594875425685294,...  \n",
       "3  [0.08710005926531675, 0.2646715448078219, 0.04...  \n",
       "4  [-0.01786488770695428, -0.005143285538778951, ...  \n",
       "\n",
       "[5 rows x 49 columns]"
      ]
     },
     "execution_count": 68,
     "metadata": {},
     "output_type": "execute_result"
    }
   ],
   "source": [
    "for i in impact_encode_columns:\n",
    "    group_df = train.groupby([i])['readmitted'].mean()\n",
    "    train[i] = train[i].map(group_df)\n",
    "    test[i] = test[i].map(group_df)\n",
    "    df[i] = df[i].map(group_df)\n",
    "    \n",
    "df.head()"
   ]
  },
  {
   "cell_type": "code",
   "execution_count": 43,
   "id": "f00144835b582269",
   "metadata": {
    "ExecuteTime": {
     "end_time": "2024-02-16T11:58:38.841760Z",
     "start_time": "2024-02-16T11:58:37.926080Z"
    }
   },
   "outputs": [],
   "source": [
    "#df.to_csv(r'../data/processed/diabetic_readmission_data_processed.csv', index=False)\n",
    "#train.to_csv(r'../data/processed/diabetic_readmission_data_train.csv', index=False)\n",
    "#test.to_csv(r'../data/processed/diabetic_readmission_data_test.csv', index=False)"
   ]
  },
  {
   "cell_type": "markdown",
   "id": "2f4b92c4b8822332",
   "metadata": {},
   "source": [
    "## Scaling"
   ]
  },
  {
   "cell_type": "markdown",
   "id": "97d43663f071fd3c",
   "metadata": {},
   "source": [
    "In this step we perform standard scaling"
   ]
  },
  {
   "cell_type": "code",
   "execution_count": 69,
   "id": "84ef4b623a2425f1",
   "metadata": {
    "ExecuteTime": {
     "end_time": "2024-02-16T11:58:38.845996Z",
     "start_time": "2024-02-16T11:58:37.932796Z"
    }
   },
   "outputs": [],
   "source": [
    "from sklearn.preprocessing import StandardScaler\n",
    "scaler = StandardScaler()\n",
    "no_scale = ['readmitted',\n",
    "            'diag_1_embedding',\n",
    "            'diag_2_embedding',\n",
    "            'diag_3_embedding']\n",
    "features = train.drop(no_scale, axis=1).columns\n",
    "scaler.fit(train[features])\n",
    "\n",
    "train_scaled = scaler.transform(train[features])\n",
    "test_scaled = scaler.transform(test[features])\n",
    "df_scaled = scaler.transform(df[features])\n",
    "\n",
    "train_scaled = pd.DataFrame(train_scaled, columns=features)\n",
    "test_scaled = pd.DataFrame(test_scaled, columns=features)\n",
    "df_scaled = pd.DataFrame(df_scaled, columns=features)\n",
    "\n",
    "train_scaled[no_scale] = train[no_scale].values\n",
    "test_scaled[no_scale] = test[no_scale].values\n",
    "df_scaled[no_scale] = df[no_scale].values"
   ]
  },
  {
   "cell_type": "code",
   "execution_count": 71,
   "id": "861ff674a73b5fa0",
   "metadata": {
    "ExecuteTime": {
     "end_time": "2024-02-16T11:58:38.847746Z",
     "start_time": "2024-02-16T11:58:38.057361Z"
    }
   },
   "outputs": [
    {
     "data": {
      "text/plain": [
       "(93075, 49)"
      ]
     },
     "execution_count": 71,
     "metadata": {},
     "output_type": "execute_result"
    }
   ],
   "source": [
    "df_scaled.shape"
   ]
  },
  {
   "cell_type": "markdown",
   "id": "f92596fab55c08fc",
   "metadata": {},
   "source": [
    "## Feature Selection"
   ]
  },
  {
   "cell_type": "markdown",
   "id": "db4c8db1980a0592",
   "metadata": {},
   "source": [
    "### Without embeddings"
   ]
  },
  {
   "cell_type": "markdown",
   "id": "22fbe63cf588c893",
   "metadata": {},
   "source": [
    "Linear correlations"
   ]
  },
  {
   "cell_type": "code",
   "execution_count": 72,
   "id": "aaf1b63e473f45",
   "metadata": {
    "ExecuteTime": {
     "end_time": "2024-02-16T11:58:38.891827Z",
     "start_time": "2024-02-16T11:58:38.060470Z"
    }
   },
   "outputs": [],
   "source": [
    "import seaborn as sns\n",
    "train1 = train.drop(['diag_1_embedding',\n",
    "                     'diag_2_embedding',\n",
    "                     'diag_3_embedding'], axis = 1)\n",
    "correlation_matrix = train1.corr()\n",
    "correlations_with_readmitted = correlation_matrix['readmitted']\n",
    "sorted_correlations = correlations_with_readmitted.abs().sort_values(ascending=False)"
   ]
  },
  {
   "cell_type": "code",
   "execution_count": 73,
   "id": "b80f087f9912ec90",
   "metadata": {
    "ExecuteTime": {
     "end_time": "2024-02-16T11:58:38.918873Z",
     "start_time": "2024-02-16T11:58:38.573634Z"
    }
   },
   "outputs": [
    {
     "data": {
      "text/plain": [
       "readmitted           1.000000\n",
       "number_inpatient     0.202550\n",
       "number_emergency     0.120771\n",
       "number_outpatient    0.108396\n",
       "number_diagnoses     0.106276\n",
       "medical_specialty    0.102392\n",
       "num_medications      0.069738\n",
       "insulin              0.066974\n",
       "diag_1               0.062500\n",
       "diabetesMed          0.060763\n",
       "diag_2               0.058809\n",
       "Name: readmitted, dtype: float64"
      ]
     },
     "execution_count": 73,
     "metadata": {},
     "output_type": "execute_result"
    }
   ],
   "source": [
    "sorted_correlations[sorted_correlations >=.05]"
   ]
  },
  {
   "cell_type": "markdown",
   "id": "2afc5e25b5760ce2",
   "metadata": {},
   "source": [
    "Linear correlations between features"
   ]
  },
  {
   "cell_type": "code",
   "execution_count": 74,
   "id": "c708ce55638646aa",
   "metadata": {
    "ExecuteTime": {
     "end_time": "2024-02-16T11:58:39.354813Z",
     "start_time": "2024-02-16T11:58:38.583200Z"
    }
   },
   "outputs": [
    {
     "data": {
      "image/png": "[encoded data removed]",
      "text/plain": [
       "<Figure size 1000x800 with 2 Axes>"
      ]
     },
     "metadata": {},
     "output_type": "display_data"
    }
   ],
   "source": [
    "# Define the threshold for filtering\n",
    "threshold = 0.5\n",
    "high_corr = np.abs(correlation_matrix) >= threshold\n",
    "# Ensure diagonal (self-correlation) is False so it doesn't affect the filter\n",
    "np.fill_diagonal(high_corr.values, False)\n",
    "# Identify columns that have at least one true value (high correlation)\n",
    "columns_to_keep = high_corr.any()\n",
    "# Filter the correlation matrix to keep only the columns (and rows) with high correlations\n",
    "filtered_matrix = correlation_matrix.loc[columns_to_keep, columns_to_keep]\n",
    "\n",
    "plt.figure(figsize=(10, 8))  # Adjust the size as needed\n",
    "sns.heatmap(filtered_matrix, annot=True, fmt=\".2f\", cmap='coolwarm', cbar=True)\n",
    "plt.show()"
   ]
  },
  {
   "cell_type": "markdown",
   "id": "934ac5928f895f65",
   "metadata": {},
   "source": [
    "As linear relations with our target variable are not that strong we will base our feature selection on a non-linear method"
   ]
  },
  {
   "cell_type": "code",
   "execution_count": 75,
   "id": "f7a12a0fd224dfbd",
   "metadata": {
    "ExecuteTime": {
     "end_time": "2024-02-16T11:58:40.434654Z",
     "start_time": "2024-02-16T11:58:38.792610Z"
    }
   },
   "outputs": [
    {
     "data": {
      "text/plain": [
       "Index(['race', 'age', 'admission_type_id', 'discharge_disposition_id',\n",
       "       'time_in_hospital', 'medical_specialty', 'num_lab_procedures',\n",
       "       'num_procedures', 'num_medications', 'number_inpatient', 'diag_1',\n",
       "       'diag_2', 'diag_3', 'number_diagnoses', 'insulin'],\n",
       "      dtype='object')"
      ]
     },
     "execution_count": 75,
     "metadata": {},
     "output_type": "execute_result"
    }
   ],
   "source": [
    "from sklearn.tree import DecisionTreeClassifier\n",
    "from sklearn.feature_selection import SelectFromModel\n",
    "\n",
    "X = train1.drop(['readmitted'], axis=1)\n",
    "y = train1['readmitted']\n",
    "dt = DecisionTreeClassifier(random_state=1)\n",
    "dt = dt.fit(X, y)\n",
    "tree_feature_selector = SelectFromModel(dt, prefit=True)\n",
    "selected_features = X.columns[tree_feature_selector.get_support()]\n",
    "selected_features           "
   ]
  },
  {
   "cell_type": "code",
   "execution_count": 76,
   "id": "2d30a4575d47d348",
   "metadata": {
    "ExecuteTime": {
     "end_time": "2024-02-16T11:58:54.325090Z",
     "start_time": "2024-02-16T11:58:39.809733Z"
    }
   },
   "outputs": [
    {
     "data": {
      "text/plain": [
       "Index(['race', 'gender', 'age', 'admission_type_id',\n",
       "       'discharge_disposition_id', 'admission_source_id', 'time_in_hospital',\n",
       "       'medical_specialty', 'num_lab_procedures', 'num_procedures',\n",
       "       'num_medications', 'number_inpatient', 'diag_1', 'diag_2', 'diag_3',\n",
       "       'number_diagnoses', 'insulin'],\n",
       "      dtype='object')"
      ]
     },
     "execution_count": 76,
     "metadata": {},
     "output_type": "execute_result"
    }
   ],
   "source": [
    "from sklearn.ensemble import RandomForestClassifier\n",
    "rf = RandomForestClassifier(random_state = 1)\n",
    "rf = rf.fit(X, y)\n",
    "rf_feature_selector = SelectFromModel(rf, prefit=True)\n",
    "selected_features_rf = X.columns[rf_feature_selector.get_support()]\n",
    "selected_features_rf"
   ]
  },
  {
   "cell_type": "markdown",
   "id": "9af2665337b3db3d",
   "metadata": {},
   "source": [
    "# Model Training"
   ]
  },
  {
   "cell_type": "code",
   "execution_count": 77,
   "id": "b817289ddf779f7c",
   "metadata": {
    "ExecuteTime": {
     "end_time": "2024-02-16T12:01:01.328250Z",
     "start_time": "2024-02-16T12:00:40.823771Z"
    }
   },
   "outputs": [
    {
     "name": "stdout",
     "output_type": "stream",
     "text": [
      "1.0\n",
      "0.567791147400086\n"
     ]
    }
   ],
   "source": [
    "from sklearn.ensemble import RandomForestClassifier\n",
    "X_train = X[selected_features]\n",
    "y_train = y\n",
    "rfc = RandomForestClassifier(random_state=1)\n",
    "rfc.fit(X_train, y_train)\n",
    "y_train_pred = rfc.predict(X_train)\n",
    "acc_train = rfc.score(X_train, y_train)\n",
    "acc_test = rfc.score(test[selected_features], test['readmitted'])\n",
    "\n",
    "print(acc_train)\n",
    "print(acc_test)\n"
   ]
  },
  {
   "cell_type": "code",
   "execution_count": 78,
   "id": "dc34bed1fc374edc",
   "metadata": {
    "ExecuteTime": {
     "end_time": "2024-02-16T12:05:31.111930Z",
     "start_time": "2024-02-16T12:05:11.501342Z"
    },
    "collapsed": false
   },
   "outputs": [
    {
     "name": "stdout",
     "output_type": "stream",
     "text": [
      "1.0\n",
      "0.5723033949290932\n"
     ]
    }
   ],
   "source": [
    "#Approach using class weights\n",
    "rfc = RandomForestClassifier(random_state=1, class_weight='balanced')\n",
    "rfc.fit(X_train, y_train)\n",
    "y_train_pred = rfc.predict(X_train)\n",
    "acc_train = rfc.score(X_train, y_train)\n",
    "acc_test = rfc.score(test[selected_features], test['readmitted'])\n",
    "\n",
    "print(acc_train)\n",
    "print(acc_test)"
   ]
  },
  {
   "cell_type": "code",
   "execution_count": 53,
   "id": "25163660d3538327",
   "metadata": {
    "ExecuteTime": {
     "end_time": "2024-02-16T12:12:18.731083Z",
     "start_time": "2024-02-16T12:11:54.573205Z"
    },
    "collapsed": false
   },
   "outputs": [
    {
     "name": "stdout",
     "output_type": "stream",
     "text": [
      "1.0\n",
      "0.5699398366996132\n"
     ]
    }
   ],
   "source": [
    "from imblearn.over_sampling import RandomOverSampler\n",
    "ros = RandomOverSampler(random_state=1)\n",
    "X_resampled, y_resampled = ros.fit_resample(X[selected_features], y)\n",
    "rfc = RandomForestClassifier(random_state=1)\n",
    "rfc.fit(X_resampled, y_resampled)\n",
    "acc_train = rfc.score(X_resampled, y_resampled)\n",
    "acc_test = rfc.score(test[selected_features], test['readmitted'])\n",
    "\n",
    "print(acc_train)\n",
    "print(acc_test)"
   ]
  },
  {
   "cell_type": "code",
   "execution_count": 54,
   "id": "1f4e661a29b236e9",
   "metadata": {
    "ExecuteTime": {
     "end_time": "2024-02-16T12:13:43.642902Z",
     "start_time": "2024-02-16T12:13:38.200074Z"
    },
    "collapsed": false
   },
   "outputs": [
    {
     "name": "stdout",
     "output_type": "stream",
     "text": [
      "1.0\n",
      "0.45552213149978515\n"
     ]
    }
   ],
   "source": [
    "from imblearn.under_sampling import RandomUnderSampler\n",
    "rus = RandomUnderSampler(random_state=1)\n",
    "X_resampled, y_resampled = rus.fit_resample(X[selected_features], y)\n",
    "rfc = RandomForestClassifier(random_state=1)\n",
    "rfc.fit(X_resampled, y_resampled)\n",
    "acc_train = rfc.score(X_resampled, y_resampled)\n",
    "acc_test = rfc.score(test[selected_features], test['readmitted'])\n",
    "\n",
    "print(acc_train)\n",
    "print(acc_test)"
   ]
  },
  {
   "cell_type": "code",
   "execution_count": 55,
   "id": "b83ceebc0ffd3b20",
   "metadata": {
    "ExecuteTime": {
     "end_time": "2024-02-16T12:19:05.882657Z",
     "start_time": "2024-02-16T12:18:46.404466Z"
    },
    "collapsed": false
   },
   "outputs": [
    {
     "name": "stdout",
     "output_type": "stream",
     "text": [
      "0.7156528393850909\n",
      "0.5783197249677696\n"
     ]
    }
   ],
   "source": [
    "from imblearn.over_sampling import SMOTE\n",
    "smote = SMOTE(random_state=1)\n",
    "X_resampled, y_resampled = smote.fit_resample(X[selected_features], y)\n",
    "rfc = RandomForestClassifier(random_state=1)\n",
    "rfc.fit(X_resampled, y_resampled)\n",
    "acc_train = rfc.score(X_resampled, y_resampled)\n",
    "acc_test = rfc.score(test[selected_features], test['readmitted'])\n",
    "\n",
    "print(acc_train)\n",
    "print(acc_test)"
   ]
  },
  {
   "cell_type": "code",
   "execution_count": 56,
   "id": "5edf63fba00a4fbb",
   "metadata": {
    "ExecuteTime": {
     "end_time": "2024-02-15T16:00:35.730259Z",
     "start_time": "2024-02-15T16:00:15.062905Z"
    }
   },
   "outputs": [
    {
     "name": "stdout",
     "output_type": "stream",
     "text": [
      "1.0\n",
      "0.5775676837129351\n"
     ]
    }
   ],
   "source": [
    "X_train = X\n",
    "y_train = y\n",
    "rfc = RandomForestClassifier()\n",
    "rfc.fit(X_train, y_train)\n",
    "y_train_pred = rfc.predict(X_train)\n",
    "acc_train = rfc.score(X_train, y_train)\n",
    "acc_test = rfc.score(test.drop(['diag_1_embedding',\n",
    "                                'diag_2_embedding',\n",
    "                                'diag_3_embedding',\n",
    "                                'readmitted'], axis=1), test['readmitted'])\n",
    "\n",
    "print(acc_train)\n",
    "print(acc_test)"
   ]
  },
  {
   "cell_type": "code",
   "execution_count": 57,
   "id": "6689e618",
   "metadata": {},
   "outputs": [],
   "source": [
    "test.dropna(inplace=True)"
   ]
  }
 ],
 "metadata": {
  "kernelspec": {
   "display_name": "Python 3 (ipykernel)",
   "language": "python",
   "name": "python3"
  },
  "language_info": {
   "codemirror_mode": {
    "name": "ipython",
    "version": 3
   },
   "file_extension": ".py",
   "mimetype": "text/x-python",
   "name": "python",
   "nbconvert_exporter": "python",
   "pygments_lexer": "ipython3",
   "version": "3.11.5"
  }
 },
 "nbformat": 4,
 "nbformat_minor": 5
}
